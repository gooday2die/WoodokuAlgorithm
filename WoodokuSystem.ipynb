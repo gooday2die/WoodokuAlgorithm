{
 "cells": [
  {
   "cell_type": "code",
   "execution_count": 384,
   "id": "0d5c2324",
   "metadata": {},
   "outputs": [],
   "source": [
    "import numpy as np\n",
    "import random\n",
    "import math"
   ]
  },
  {
   "cell_type": "code",
   "execution_count": 3,
   "id": "27e7e3bb",
   "metadata": {},
   "outputs": [],
   "source": [
    "field = np.zeros((9,9), dtype=int)"
   ]
  },
  {
   "cell_type": "code",
   "execution_count": 4,
   "id": "2205b32a",
   "metadata": {},
   "outputs": [],
   "source": [
    "score = 0"
   ]
  },
  {
   "cell_type": "code",
   "execution_count": 5,
   "id": "0b2f6bcc",
   "metadata": {
    "scrolled": true
   },
   "outputs": [
    {
     "data": {
      "text/plain": [
       "array([[0, 0, 0, 0, 0, 0, 0, 0, 0],\n",
       "       [0, 0, 0, 0, 0, 0, 0, 0, 0],\n",
       "       [0, 0, 0, 0, 0, 0, 0, 0, 0],\n",
       "       [0, 0, 0, 0, 0, 0, 0, 0, 0],\n",
       "       [0, 0, 0, 0, 0, 0, 0, 0, 0],\n",
       "       [0, 0, 0, 0, 0, 0, 0, 0, 0],\n",
       "       [0, 0, 0, 0, 0, 0, 0, 0, 0],\n",
       "       [0, 0, 0, 0, 0, 0, 0, 0, 0],\n",
       "       [0, 0, 0, 0, 0, 0, 0, 0, 0]])"
      ]
     },
     "execution_count": 5,
     "metadata": {},
     "output_type": "execute_result"
    }
   ],
   "source": [
    "field"
   ]
  },
  {
   "cell_type": "code",
   "execution_count": 6,
   "id": "769684ab",
   "metadata": {},
   "outputs": [],
   "source": [
    "def rotate_90(np_array):\n",
    "    \"\"\"\n",
    "    A function that rotates np array 90 degrees\n",
    "    \"\"\"\n",
    "    return np.rot90(np_array,axes=(-2,-1))"
   ]
  },
  {
   "cell_type": "code",
   "execution_count": 7,
   "id": "b1ace756",
   "metadata": {},
   "outputs": [],
   "source": [
    "def generate_rotate_list(np_array):\n",
    "    \"\"\"\n",
    "    A function that gets one array and rotates it three times\n",
    "    \"\"\"\n",
    "    return_list = list()\n",
    "    \n",
    "    return_list.append(np_array)\n",
    "    return_list.append(rotate_90(np_array))\n",
    "    return_list.append(rotate_90(rotate_90(np_array)))\n",
    "    return_list.append(rotate_90(rotate_90(rotate_90(np_array))))\n",
    "    \n",
    "    return return_list"
   ]
  },
  {
   "cell_type": "code",
   "execution_count": 8,
   "id": "b87f99b2",
   "metadata": {},
   "outputs": [],
   "source": [
    "def generate_shapes():\n",
    "    \"\"\"\n",
    "    A function that generates all shape arrays\n",
    "    There shall be 44 shapes\n",
    "    \"\"\"\n",
    "    shape_list = list()\n",
    "    t_shape_list = generate_rotate_list(np.array([[1,1,1],[0,1,0]]))\n",
    "    s_shape_list = generate_rotate_list(np.array([[0,1],[1,1],[1,0]]))\n",
    "    l_shape_list = generate_rotate_list(np.array([[0,1],[0,1],[1,1]])) + generate_rotate_list(np.array([[1,0],[1,0],[1,1]]))\n",
    "    r_shape_list = generate_rotate_list(np.array([[1,1],[0,1]]))\n",
    "    long_T_shape_list = generate_rotate_list(np.array([[1,1,1],[0,1,0]]))\n",
    "    long_shape_list = [np.array([[1,1]]), np.array([[1],[1]]), np.array([[1,1,1]])\n",
    "                       ,np.array([[1],[1],[1]]), np.array([[1,1,1,1]]), np.array([[1],[1],[1],[1]])\n",
    "                      , np.array([[1,1,1,1,1]]), np.array([[1],[1],[1],[1],[1]])]\n",
    "    big_r_shape_list = generate_rotate_list(np.array([[1,1,1],[0,0,1],[0,0,1]]))\n",
    "    etc_shape_list = [np.array([1]), np.array([[1,1],[1,1]]), np.array([[0,0,0,1],[0,0,1,0],[0,1,0,0],[1,0,0,0]])\n",
    "                     ,np.array([[1,0,0,0],[0,1,0,0],[0,0,1,0],[0,0,0,1]]), np.array([[1,0,0],[0,1,0],[0,0,1]]), \n",
    "                      np.array([[0,0,1],[0,1,0],[1,0,0]]), np.array([[0,1],[1,0]]), np.array([[1,0],[0,1]])]\n",
    "\n",
    "    shape_list += t_shape_list\n",
    "    shape_list += s_shape_list\n",
    "    shape_list += l_shape_list\n",
    "    shape_list += r_shape_list\n",
    "    shape_list += long_T_shape_list\n",
    "    shape_list += long_shape_list\n",
    "    shape_list += big_r_shape_list\n",
    "    shape_list += etc_shape_list\n",
    "    \n",
    "    return shape_list"
   ]
  },
  {
   "cell_type": "code",
   "execution_count": 392,
   "id": "532899e9",
   "metadata": {},
   "outputs": [],
   "source": [
    "def game_rule(field, score):\n",
    "    \"\"\"\n",
    "    A function that generates gamerules\n",
    "    \"\"\"\n",
    "    field, row_score = check_rows(field)\n",
    "    field, col_score = check_cols(field)\n",
    "    field, block_score = check_block(field)\n",
    "        \n",
    "    if (row_score + col_score + block_score > 2):\n",
    "        score = 18 * (row_score + col_score + block_score - 1) + 10\n",
    "    elif (row_score + col_score + block_score == 1):\n",
    "        score = 18\n",
    "        \n",
    "    #print(\"SCORE : \" + str(score))\n",
    "    \n",
    "    field = clean_up(field)\n",
    "    \n",
    "    return field, score"
   ]
  },
  {
   "cell_type": "code",
   "execution_count": 393,
   "id": "e6b656a0",
   "metadata": {},
   "outputs": [],
   "source": [
    "def check_rows(field):\n",
    "    \"\"\"\n",
    "    A function that checks row sets\n",
    "    If there are any good matched ones, it will switch it to -1\n",
    "    \"\"\"\n",
    "    row_clear = 0\n",
    "    for i in range(len(field)):\n",
    "        if field[i].tolist() == [1,1,1,1,1,1,1,1,1]:\n",
    "            print(\"Cleared a ROW!\")\n",
    "            row_clear += 1\n",
    "            field[i] = [-1,-1,-1,-1,-1,-1,-1,-1,-1]\n",
    "    \n",
    "    return field, row_clear"
   ]
  },
  {
   "cell_type": "code",
   "execution_count": 394,
   "id": "63a919e3",
   "metadata": {},
   "outputs": [],
   "source": [
    "def check_cols(field):\n",
    "    \"\"\"\n",
    "    A function that checks col sets\n",
    "    If there are any good matched ones, it will switch it to -1\n",
    "    \"\"\"\n",
    "    col_clear = 0\n",
    "    for i in range(len(field[0])):\n",
    "        cur_col = list()\n",
    "        result_list = list()\n",
    "        for j in range(len(field)):\n",
    "            cur_col.append(field[j][i])\n",
    "        for j in cur_col:\n",
    "            result_list.append(j == -1 or j == 1)\n",
    "        if result_list == [True, True, True, True, True, True, True, True, True]:\n",
    "            print(\"Cleared a COL!\")\n",
    "            col_clear += 1\n",
    "            for j in range(len(field)):\n",
    "                field[j][i] = -1\n",
    "            \n",
    "    return field, col_clear"
   ]
  },
  {
   "cell_type": "code",
   "execution_count": 395,
   "id": "4de52af0",
   "metadata": {},
   "outputs": [],
   "source": [
    "def check_block(field):\n",
    "    \"\"\"\n",
    "    A function that checks block sets\n",
    "    If there are any good matched ones, it will switch it to -1\n",
    "    \"\"\"\n",
    "    block_clear =0\n",
    "    for k in range(3):\n",
    "        for i in range(3):\n",
    "            cur_block = list()\n",
    "            result_list = list()\n",
    "            for j in range(3):\n",
    "                cur_block += (field[i*3:i*3 + 3][j][k*3:k*3+3].tolist())\n",
    "            for j in cur_block:\n",
    "                result_list.append(j == -1 or j == 1)\n",
    "            if result_list == [True, True, True, True, True, True, True, True, True]:\n",
    "                for p in range(3):\n",
    "                    field[i*3:i*3+3][p][k*3:k*3+3] = [-1,-1,-1]\n",
    "                print(\"Cleared a Block!\")\n",
    "                block_clear += 1\n",
    "    return field, block_clear"
   ]
  },
  {
   "cell_type": "code",
   "execution_count": 396,
   "id": "add6b242",
   "metadata": {},
   "outputs": [],
   "source": [
    "def clean_up(field):\n",
    "    \"\"\"\n",
    "    A function that cleans up the field if the number is 2\n",
    "    \"\"\"\n",
    "    field[field == -1] = 0\n",
    "    return field\n"
   ]
  },
  {
   "cell_type": "code",
   "execution_count": 509,
   "id": "8a234a5c",
   "metadata": {},
   "outputs": [],
   "source": [
    "def move_shape(field, shape, x, y):\n",
    "    \"\"\"\n",
    "    A function that moves a shape into x, y\n",
    "    \"\"\"\n",
    "    org_field = field\n",
    "    can_move, new_field = can_move_shape(field, shape, x, y)\n",
    "    if (can_move):\n",
    "        return True, new_field\n",
    "    else:\n",
    "        return False, org_field"
   ]
  },
  {
   "cell_type": "code",
   "execution_count": 510,
   "id": "d8e2f001",
   "metadata": {},
   "outputs": [],
   "source": [
    "def can_move_shape(field, to_move, x, y):\n",
    "    \"\"\"\n",
    "    A function that checks if you can move a shape into a x, y\n",
    "    \"\"\"\n",
    "    \n",
    "    tmp_field = field.copy()\n",
    "    if (x < 0  or y < 0):\n",
    "        return False, field\n",
    "    else:\n",
    "        shape_size = to_move.shape\n",
    "        if (x + shape_size[1] > 9 or y + shape_size[0] > 9):\n",
    "            return False, field\n",
    "        else:\n",
    "            for i in range(shape_size[0]):\n",
    "                for j in range(shape_size[1]):\n",
    "                    tmp_field[i + y][j + x] = to_move[i][j] + tmp_field[i + y][j + x]\n",
    "            if np.any(tmp_field > 1):\n",
    "                return False, field\n",
    "            else:\n",
    "                return True, tmp_field"
   ]
  },
  {
   "cell_type": "code",
   "execution_count": 511,
   "id": "89af1821",
   "metadata": {},
   "outputs": [],
   "source": [
    "def is_game_over(field, to_move):\n",
    "    \"\"\"\n",
    "    A method that determines if the game is over or not\n",
    "    \"\"\"\n",
    "    for i in range(11):\n",
    "        for j in range(11):\n",
    "            if can_move_shape(field, to_move, i, j):\n",
    "                return False\n",
    "    return True"
   ]
  },
  {
   "cell_type": "code",
   "execution_count": 636,
   "id": "ca8b9e23",
   "metadata": {},
   "outputs": [],
   "source": [
    "def print_screen(field):\n",
    "    \"\"\"\n",
    "    A function that prints the field to screen\n",
    "    \"\"\"\n",
    "    print(\"   0 1 2 3 4 5 6 7 8 9 10 11\")\n",
    "    for i in range(len(field)):\n",
    "        print(\"%02d\" % i, end='')\n",
    "        for j in field[i]:\n",
    "            print(\" \" + str(j), end='')\n",
    "        print(\"\")"
   ]
  },
  {
   "cell_type": "code",
   "execution_count": 623,
   "id": "32b66bd6",
   "metadata": {},
   "outputs": [
    {
     "name": "stdout",
     "output_type": "stream",
     "text": [
      "Game Screen : \n",
      "  0 1 2 3 4 5 6 7 8 9 10 11\n",
      "0  0  0  0  0  0  0  0  0  0\n",
      "1  0  0  0  0  0  0  0  0  0\n",
      "2  0  0  0  0  0  0  0  0  0\n",
      "3  0  0  0  0  0  0  0  0  0\n",
      "4  0  0  0  0  0  0  0  0  0\n",
      "5  0  0  0  0  0  0  0  0  0\n",
      "6  0  0  0  0  0  0  0  0  0\n",
      "7  0  0  0  0  0  0  0  0  0\n",
      "8  0  0  0  0  0  0  0  0  0\n",
      "\n",
      "New Block : \n",
      "[[0 1 0]\n",
      " [1 1 1]]\n",
      "X : \n"
     ]
    },
    {
     "ename": "ValueError",
     "evalue": "invalid literal for int() with base 10: ''",
     "output_type": "error",
     "traceback": [
      "\u001b[0;31m---------------------------------------------------------------------------\u001b[0m",
      "\u001b[0;31mValueError\u001b[0m                                Traceback (most recent call last)",
      "\u001b[0;32m/tmp/ipykernel_1532678/3585464733.py\u001b[0m in \u001b[0;36m<module>\u001b[0;34m\u001b[0m\n\u001b[1;32m     10\u001b[0m     \u001b[0mprint\u001b[0m\u001b[0;34m(\u001b[0m\u001b[0mrc\u001b[0m\u001b[0;34m)\u001b[0m\u001b[0;34m\u001b[0m\u001b[0;34m\u001b[0m\u001b[0m\n\u001b[1;32m     11\u001b[0m \u001b[0;34m\u001b[0m\u001b[0m\n\u001b[0;32m---> 12\u001b[0;31m     \u001b[0mx\u001b[0m \u001b[0;34m=\u001b[0m \u001b[0mint\u001b[0m\u001b[0;34m(\u001b[0m\u001b[0minput\u001b[0m\u001b[0;34m(\u001b[0m\u001b[0;34m\"X : \"\u001b[0m\u001b[0;34m)\u001b[0m\u001b[0;34m)\u001b[0m\u001b[0;34m\u001b[0m\u001b[0;34m\u001b[0m\u001b[0m\n\u001b[0m\u001b[1;32m     13\u001b[0m     \u001b[0my\u001b[0m \u001b[0;34m=\u001b[0m \u001b[0mint\u001b[0m\u001b[0;34m(\u001b[0m\u001b[0minput\u001b[0m\u001b[0;34m(\u001b[0m\u001b[0;34m\"Y : \"\u001b[0m\u001b[0;34m)\u001b[0m\u001b[0;34m)\u001b[0m\u001b[0;34m\u001b[0m\u001b[0;34m\u001b[0m\u001b[0m\n\u001b[1;32m     14\u001b[0m     \u001b[0mfield\u001b[0m \u001b[0;34m=\u001b[0m \u001b[0mmove_shape\u001b[0m\u001b[0;34m(\u001b[0m\u001b[0mfield\u001b[0m\u001b[0;34m,\u001b[0m \u001b[0mrc\u001b[0m\u001b[0;34m,\u001b[0m \u001b[0mx\u001b[0m\u001b[0;34m,\u001b[0m \u001b[0my\u001b[0m\u001b[0;34m)\u001b[0m\u001b[0;34m[\u001b[0m\u001b[0;36m1\u001b[0m\u001b[0;34m]\u001b[0m\u001b[0;34m\u001b[0m\u001b[0;34m\u001b[0m\u001b[0m\n",
      "\u001b[0;31mValueError\u001b[0m: invalid literal for int() with base 10: ''"
     ]
    }
   ],
   "source": [
    "field = np.zeros((9,9), dtype=int)\n",
    "score = 0\n",
    "rc = random.choice(all_shapes)\n",
    "\n",
    "while not is_game_over(field, rc):\n",
    "    print(\"Game Screen : \")\n",
    "    print_screen(field)\n",
    "    \n",
    "    print(\"\\nNew Block : \")\n",
    "    print(rc)\n",
    "    \n",
    "    x = int(input(\"X : \"))\n",
    "    y = int(input(\"Y : \"))\n",
    "    field = move_shape(field, rc, x, y)[1]\n",
    "    field, score = game_rule(field, score)\n",
    "    rc = random.choice(all_shapes)\n",
    "    \n",
    "print(\"Game over...\")\n",
    "print(\"Score : \" + str(score))"
   ]
  },
  {
   "cell_type": "code",
   "execution_count": 596,
   "id": "4b10e657",
   "metadata": {},
   "outputs": [],
   "source": [
    "field = np.zeros((9,9), dtype=int)\n",
    "score = 0\n",
    "all_shapes = generate_shapes()\n",
    "rc = random.choice(all_shapes)"
   ]
  },
  {
   "cell_type": "code",
   "execution_count": 597,
   "id": "fc332d99",
   "metadata": {},
   "outputs": [],
   "source": [
    "def sigmoid(z):\n",
    "    return 1/(1 + np.exp(-z))"
   ]
  },
  {
   "cell_type": "code",
   "execution_count": 598,
   "id": "8167979d",
   "metadata": {},
   "outputs": [],
   "source": [
    "def calculate_heuristics(current_field):\n",
    "    game_score = game_rule(current_field, 0)[1]  # Score if put in this place\n",
    "    empty_space_score = get_empty_space_group(current_field)\n",
    "    connection_score = get_connection_group(current_field)\n",
    "    score = game_score + (math.log10(empty_space_score)) + (math.log10(connection_score))\n",
    "    \n",
    "    return score"
   ]
  },
  {
   "cell_type": "code",
   "execution_count": 599,
   "id": "9c341260",
   "metadata": {},
   "outputs": [],
   "source": [
    "test_field = np.random.randint(0,2,(9,9))"
   ]
  },
  {
   "cell_type": "code",
   "execution_count": 600,
   "id": "39da4de7",
   "metadata": {},
   "outputs": [
    {
     "data": {
      "text/plain": [
       "array([[0, 0, 0, 0, 1, 0, 0, 0, 1],\n",
       "       [1, 0, 1, 1, 1, 1, 0, 0, 1],\n",
       "       [0, 1, 0, 1, 1, 0, 0, 0, 1],\n",
       "       [0, 0, 0, 1, 1, 1, 0, 1, 1],\n",
       "       [0, 0, 1, 1, 0, 0, 0, 1, 1],\n",
       "       [1, 0, 1, 1, 1, 0, 1, 1, 0],\n",
       "       [0, 0, 0, 0, 1, 0, 1, 0, 1],\n",
       "       [0, 1, 1, 0, 0, 1, 0, 0, 1],\n",
       "       [1, 1, 1, 0, 0, 0, 0, 0, 0]])"
      ]
     },
     "execution_count": 600,
     "metadata": {},
     "output_type": "execute_result"
    }
   ],
   "source": [
    "test_field"
   ]
  },
  {
   "cell_type": "code",
   "execution_count": 601,
   "id": "c0017b5f",
   "metadata": {},
   "outputs": [
    {
     "data": {
      "text/plain": [
       "8.868597360437073"
      ]
     },
     "execution_count": 601,
     "metadata": {},
     "output_type": "execute_result"
    }
   ],
   "source": [
    "calculate_heuristics(test_field)"
   ]
  },
  {
   "cell_type": "code",
   "execution_count": 602,
   "id": "c7ed4991",
   "metadata": {},
   "outputs": [],
   "source": [
    "def get_empty_space_group(current_field):\n",
    "    visited = np.zeros((9,9))\n",
    "    total_score = 0\n",
    "    for i in range(11):\n",
    "        for j in range(11):\n",
    "            if visited[i][j] == 1 or current_field[i][j] == 1:\n",
    "                pass\n",
    "            else:\n",
    "                score, visited = dfs_empty_space_no_rec(current_field, visited, j, i)\n",
    "                total_score += score\n",
    "    return total_score"
   ]
  },
  {
   "cell_type": "code",
   "execution_count": 613,
   "id": "a54e879d",
   "metadata": {},
   "outputs": [],
   "source": [
    "def get_connection_group(current_field):\n",
    "    visited = np.zeros((11,11))\n",
    "    total_score = 0\n",
    "    for i in range(11):\n",
    "        for j in range(11):\n",
    "            if visited[i][j] == 1 or current_field[i][j] == 1:\n",
    "                pass\n",
    "            else:\n",
    "                score, visited = dfs_connection_no_rec(current_field, visited, j, i)\n",
    "                total_score += score\n",
    "    return total_score"
   ]
  },
  {
   "cell_type": "code",
   "execution_count": 614,
   "id": "0e83b57f",
   "metadata": {},
   "outputs": [],
   "source": [
    "def dfs_connection_no_rec(current_field, visited, x, y):\n",
    "    stack = [(x,y)]  # make stack\n",
    "    score = 1  # score gets 2^n\n",
    "    while (len(stack) != 0):  # if stack not empty\n",
    "        cur_x, cur_y = stack.pop()  # pop\n",
    "        if (cur_y > -1 and cur_x > -1) and (cur_y < 9 and cur_x < 9):\n",
    "            if visited[cur_y][cur_x] == 1:  # if visited, pass\n",
    "                pass  \n",
    "            else :  # if not out of bound\n",
    "                if current_field[cur_y][cur_x] == 1:  # and also is not filled with pixel\n",
    "                    visited[cur_y][cur_x] = 1  # set visited\n",
    "                    score *= 2  # score * 2\n",
    "                    stack.append((cur_x, cur_y-1))  # UP\n",
    "                    stack.append((cur_x, cur_y+1))  # DN\n",
    "                    stack.append((cur_x-1, cur_y))  # LEFT\n",
    "                    stack.append((cur_x+1, cur_y))  # RIGHT\n",
    "                else:\n",
    "                    pass\n",
    "        else:\n",
    "            pass\n",
    "    return score, visited # return score"
   ]
  },
  {
   "cell_type": "code",
   "execution_count": 615,
   "id": "d18cfc29",
   "metadata": {},
   "outputs": [],
   "source": [
    "def dfs_empty_space_no_rec(current_field, visited, x, y):\n",
    "    stack = [(x,y)]  # make stack\n",
    "    score = 1  # score gets 2^n\n",
    "    while (len(stack) != 0):  # if stack not empty\n",
    "        cur_x, cur_y = stack.pop()  # pop\n",
    "        if (cur_y > -1 and cur_x > -1) and (cur_y < 9 and cur_x < 9):\n",
    "            if visited[cur_y][cur_x] == 1:  # if visited, pass\n",
    "                pass  \n",
    "            else :  # if not out of bound\n",
    "                if current_field[cur_y][cur_x] == 0:  # and also is not filled with pixel\n",
    "                    visited[cur_y][cur_x] = 1  # set visited\n",
    "                    score *= 2  # score * 2\n",
    "                    stack.append((cur_x, cur_y-1))  # UP\n",
    "                    stack.append((cur_x, cur_y+1))  # DN\n",
    "                    stack.append((cur_x-1, cur_y))  # LEFT\n",
    "                    stack.append((cur_x+1, cur_y))  # RIGHT\n",
    "                else:\n",
    "                    pass\n",
    "        else:\n",
    "            pass\n",
    "    return score, visited # return score"
   ]
  },
  {
   "cell_type": "code",
   "execution_count": 616,
   "id": "fa7126fe",
   "metadata": {},
   "outputs": [],
   "source": [
    "def generate_all_coord_scores(field, new_shape):\n",
    "    all_scores = np.zeros((11,11), dtype=int)\n",
    "    for i in range(11):\n",
    "        for j in range(11):\n",
    "            can_move, future_field = can_move_shape(field, new_shape, j, i)\n",
    "            if can_move:\n",
    "                all_scores[i][j] = calculate_heuristics(future_field)\n",
    "            else:\n",
    "                all_scores[i][j] = 0\n",
    "\n",
    "    return all_scores"
   ]
  },
  {
   "cell_type": "code",
   "execution_count": 617,
   "id": "51c37df4",
   "metadata": {},
   "outputs": [],
   "source": [
    "def generate_coordinate(all_scores):\n",
    "    max_score = 0\n",
    "    max_cord = (0,0)\n",
    "    max_list = list()\n",
    "    for i in range(11):\n",
    "        for j in range(11):\n",
    "            if a[i][j] >= max_score:\n",
    "                max_score = a[i][j]\n",
    "                max_list.append((i,j))\n",
    "    \n",
    "    if len(max_list) == 1:\n",
    "        return (max_cord)\n",
    "    else:\n",
    "        return (random.choice(max_list))\n"
   ]
  },
  {
   "cell_type": "code",
   "execution_count": 618,
   "id": "6470d963",
   "metadata": {},
   "outputs": [],
   "source": [
    "field = np.zeros((11,11), dtype=int)\n",
    "padding_field = np.pad(field, (1,1), 'constant', constant_values=1)"
   ]
  },
  {
   "cell_type": "code",
   "execution_count": 638,
   "id": "6199e2ba",
   "metadata": {},
   "outputs": [
    {
     "name": "stdout",
     "output_type": "stream",
     "text": [
      "18446744073709551616\n",
      "100\n"
     ]
    }
   ],
   "source": [
    "print(get_empty_space_group(padding_field))\n",
    "print(get_connection_group(padding_field))"
   ]
  },
  {
   "cell_type": "code",
   "execution_count": 637,
   "id": "8a75b737",
   "metadata": {},
   "outputs": [
    {
     "name": "stdout",
     "output_type": "stream",
     "text": [
      "   0 1 2 3 4 5 6 7 8 9 10 11\n",
      "00 1 1 1 1 1 1 1 1 1 1 1 1 1\n",
      "01 1 0 0 0 0 0 0 0 0 0 0 0 1\n",
      "02 1 0 0 0 0 0 0 0 0 0 0 0 1\n",
      "03 1 0 0 0 0 0 0 0 0 0 0 0 1\n",
      "04 1 0 0 0 0 0 0 0 0 0 0 0 1\n",
      "05 1 0 0 0 0 0 0 0 0 0 0 0 1\n",
      "06 1 0 0 0 0 0 0 0 0 0 0 0 1\n",
      "07 1 0 0 0 0 0 0 0 0 0 0 0 1\n",
      "08 1 0 0 0 0 0 0 0 0 0 0 0 1\n",
      "09 1 0 0 0 0 0 0 0 0 0 0 0 1\n",
      "10 1 0 0 0 0 0 0 0 0 0 0 0 1\n",
      "11 1 0 0 0 0 0 0 0 0 0 0 0 1\n",
      "12 1 1 1 1 1 1 1 1 1 1 1 1 1\n"
     ]
    }
   ],
   "source": [
    "print_screen(padding_field)"
   ]
  },
  {
   "cell_type": "code",
   "execution_count": 610,
   "id": "584c64f0",
   "metadata": {},
   "outputs": [
    {
     "name": "stdout",
     "output_type": "stream",
     "text": [
      "=====================\n",
      "  0 1 2 3 4 5 6 7 8 9 10 11\n",
      "0 1 1 1 1 1 1 1 1 1 1 1 1 1\n",
      "1 1 0 0 0 0 0 0 0 0 0 0 0 1\n",
      "2 1 0 0 0 0 0 0 0 0 0 0 0 1\n",
      "3 1 0 0 0 0 0 0 0 0 0 0 0 1\n",
      "4 1 0 0 0 0 0 0 0 0 0 0 0 1\n",
      "5 1 0 0 0 0 0 0 0 0 0 0 0 1\n",
      "6 1 0 0 0 0 0 0 0 0 0 0 0 1\n",
      "7 1 0 0 0 0 0 0 0 0 0 0 0 1\n",
      "8 1 0 0 0 0 0 0 0 0 0 0 0 1\n",
      "9 1 0 0 0 0 0 0 0 0 0 0 0 1\n",
      "10 1 0 0 0 0 0 0 0 0 0 0 0 1\n",
      "11 1 0 0 0 0 0 0 0 0 0 0 0 1\n",
      "12 1 1 1 1 1 1 1 1 1 1 1 1 1\n",
      "\n",
      "New Block : \n",
      "[[0 1]\n",
      " [1 1]\n",
      " [1 0]]\n",
      "Moving to : (4, 3)\n",
      "Game Screen : \n",
      "  0 1 2 3 4 5 6 7 8 9 10 11\n",
      "0 1 1 1 1 1 1 1 1 1 1 1 1 1\n",
      "1 1 0 0 0 0 0 0 0 0 0 0 0 1\n",
      "2 1 0 0 0 0 0 0 0 0 0 0 0 1\n",
      "3 1 0 0 0 0 0 0 0 0 0 0 0 1\n",
      "4 1 0 0 0 1 0 0 0 0 0 0 0 1\n",
      "5 1 0 0 1 1 0 0 0 0 0 0 0 1\n",
      "6 1 0 0 1 0 0 0 0 0 0 0 0 1\n",
      "7 1 0 0 0 0 0 0 0 0 0 0 0 1\n",
      "8 1 0 0 0 0 0 0 0 0 0 0 0 1\n",
      "9 1 0 0 0 0 0 0 0 0 0 0 0 1\n",
      "10 1 0 0 0 0 0 0 0 0 0 0 0 1\n",
      "11 1 0 0 0 0 0 0 0 0 0 0 0 1\n",
      "12 1 1 1 1 1 1 1 1 1 1 1 1 1\n",
      "=====================\n"
     ]
    }
   ],
   "source": [
    "score = 0\n",
    "rc = random.choice(all_shapes)\n",
    "field, score = run_algorithm(padding_field, rc, score)"
   ]
  },
  {
   "cell_type": "code",
   "execution_count": 583,
   "id": "da4ed1cc",
   "metadata": {},
   "outputs": [
    {
     "name": "stdout",
     "output_type": "stream",
     "text": [
      "=====================\n",
      "  0 1 2 3 4 5 6 7 8\n",
      "0 0 0 0 0 0 0 0 0 0\n",
      "1 0 0 0 0 0 0 0 0 0\n",
      "2 0 0 0 0 0 0 0 0 0\n",
      "3 0 0 0 0 0 0 0 0 0\n",
      "4 0 0 0 0 0 0 0 0 0\n",
      "5 0 0 0 0 0 0 0 0 0\n",
      "6 0 0 0 0 0 0 0 0 0\n",
      "7 0 0 0 0 0 0 0 0 0\n",
      "8 0 0 0 0 0 0 0 0 0\n",
      "\n",
      "New Block : \n",
      "[[1 1 1]\n",
      " [0 1 0]]\n",
      "Moving to : (1, 1)\n",
      "Game Screen : \n",
      "  0 1 2 3 4 5 6 7 8\n",
      "0 0 0 0 0 0 0 0 0 0\n",
      "1 0 1 1 1 0 0 0 0 0\n",
      "2 0 0 1 0 0 0 0 0 0\n",
      "3 0 0 0 0 0 0 0 0 0\n",
      "4 0 0 0 0 0 0 0 0 0\n",
      "5 0 0 0 0 0 0 0 0 0\n",
      "6 0 0 0 0 0 0 0 0 0\n",
      "7 0 0 0 0 0 0 0 0 0\n",
      "8 0 0 0 0 0 0 0 0 0\n",
      "=====================\n"
     ]
    }
   ],
   "source": [
    "field = np.zeros((9,9), dtype=int)\n",
    "score = 0\n",
    "rc = random.choice(all_shapes)\n",
    "field, score = run_algorithm(field, rc, score)"
   ]
  },
  {
   "cell_type": "code",
   "execution_count": 566,
   "id": "a86f2857",
   "metadata": {},
   "outputs": [],
   "source": [
    "def run_algorithm(field, new_shape, score):\n",
    "    score_list = generate_all_coord_scores(field, new_shape)\n",
    "    #print(score_list)\n",
    "    coord = generate_coordinate(score_list)\n",
    "    #print(coord)\n",
    "    print(\"=====================\")\n",
    "    #print(\"BEFORE Game Screen : \")\n",
    "    print_screen(field)\n",
    "    \n",
    "    print(\"\\nNew Block : \")\n",
    "    print(new_shape)\n",
    "    print(\"Moving to : \" + str(coord))\n",
    "    field = move_shape(field, new_shape, coord[1], coord[0])[1]\n",
    "    field, score = game_rule(field, score)\n",
    "    \n",
    "    print(\"Game Screen : \")\n",
    "    print_screen(field)\n",
    "    print(\"=====================\")\n",
    "\n",
    "    return field, score"
   ]
  },
  {
   "cell_type": "code",
   "execution_count": 639,
   "id": "2ddf9a32",
   "metadata": {},
   "outputs": [
    {
     "data": {
      "text/plain": [
       "1.0"
      ]
     },
     "execution_count": 639,
     "metadata": {},
     "output_type": "execute_result"
    }
   ],
   "source": [
    "sigmoid(54339858676587)"
   ]
  },
  {
   "cell_type": "code",
   "execution_count": 567,
   "id": "97b6c3aa",
   "metadata": {},
   "outputs": [
    {
     "name": "stdout",
     "output_type": "stream",
     "text": [
      "=====================\n",
      "  0 1 2 3 4 5 6 7 8\n",
      "0 0 0 0 0 0 0 0 0 0\n",
      "1 0 0 0 0 0 0 0 0 0\n",
      "2 0 0 0 0 0 0 0 0 0\n",
      "3 0 0 0 0 0 0 0 0 0\n",
      "4 0 0 0 0 0 0 0 0 0\n",
      "5 0 0 0 0 0 0 0 0 0\n",
      "6 0 0 0 0 0 0 0 0 0\n",
      "7 0 0 0 0 0 0 0 0 0\n",
      "8 0 0 0 0 0 0 0 0 0\n",
      "\n",
      "New Block : \n",
      "[[1 1]\n",
      " [0 1]\n",
      " [0 1]]\n",
      "Moving to : (2, 5)\n",
      "Game Screen : \n",
      "  0 1 2 3 4 5 6 7 8\n",
      "0 0 0 0 0 0 0 0 0 0\n",
      "1 0 0 0 0 0 0 0 0 0\n",
      "2 0 0 0 0 0 1 1 0 0\n",
      "3 0 0 0 0 0 0 1 0 0\n",
      "4 0 0 0 0 0 0 1 0 0\n",
      "5 0 0 0 0 0 0 0 0 0\n",
      "6 0 0 0 0 0 0 0 0 0\n",
      "7 0 0 0 0 0 0 0 0 0\n",
      "8 0 0 0 0 0 0 0 0 0\n",
      "=====================\n",
      "Next:\n",
      "=====================\n",
      "  0 1 2 3 4 5 6 7 8\n",
      "0 0 0 0 0 0 0 0 0 0\n",
      "1 0 0 0 0 0 0 0 0 0\n",
      "2 0 0 0 0 0 1 1 0 0\n",
      "3 0 0 0 0 0 0 1 0 0\n",
      "4 0 0 0 0 0 0 1 0 0\n",
      "5 0 0 0 0 0 0 0 0 0\n",
      "6 0 0 0 0 0 0 0 0 0\n",
      "7 0 0 0 0 0 0 0 0 0\n",
      "8 0 0 0 0 0 0 0 0 0\n",
      "\n",
      "New Block : \n",
      "[[0 1]\n",
      " [1 0]]\n",
      "Moving to : (1, 1)\n",
      "Game Screen : \n",
      "  0 1 2 3 4 5 6 7 8\n",
      "0 0 0 0 0 0 0 0 0 0\n",
      "1 0 0 1 0 0 0 0 0 0\n",
      "2 0 1 0 0 0 1 1 0 0\n",
      "3 0 0 0 0 0 0 1 0 0\n",
      "4 0 0 0 0 0 0 1 0 0\n",
      "5 0 0 0 0 0 0 0 0 0\n",
      "6 0 0 0 0 0 0 0 0 0\n",
      "7 0 0 0 0 0 0 0 0 0\n",
      "8 0 0 0 0 0 0 0 0 0\n",
      "=====================\n",
      "Next:\n",
      "=====================\n",
      "  0 1 2 3 4 5 6 7 8\n",
      "0 0 0 0 0 0 0 0 0 0\n",
      "1 0 0 1 0 0 0 0 0 0\n",
      "2 0 1 0 0 0 1 1 0 0\n",
      "3 0 0 0 0 0 0 1 0 0\n",
      "4 0 0 0 0 0 0 1 0 0\n",
      "5 0 0 0 0 0 0 0 0 0\n",
      "6 0 0 0 0 0 0 0 0 0\n",
      "7 0 0 0 0 0 0 0 0 0\n",
      "8 0 0 0 0 0 0 0 0 0\n",
      "\n",
      "New Block : \n",
      "[[0 1]\n",
      " [1 1]\n",
      " [1 0]]\n",
      "Moving to : (3, 2)\n",
      "Game Screen : \n",
      "  0 1 2 3 4 5 6 7 8\n",
      "0 0 0 0 0 0 0 0 0 0\n",
      "1 0 0 1 0 0 0 0 0 0\n",
      "2 0 1 0 0 0 1 1 0 0\n",
      "3 0 0 0 1 0 0 1 0 0\n",
      "4 0 0 1 1 0 0 1 0 0\n",
      "5 0 0 1 0 0 0 0 0 0\n",
      "6 0 0 0 0 0 0 0 0 0\n",
      "7 0 0 0 0 0 0 0 0 0\n",
      "8 0 0 0 0 0 0 0 0 0\n",
      "=====================\n",
      "Next:\n",
      "=====================\n",
      "  0 1 2 3 4 5 6 7 8\n",
      "0 0 0 0 0 0 0 0 0 0\n",
      "1 0 0 1 0 0 0 0 0 0\n",
      "2 0 1 0 0 0 1 1 0 0\n",
      "3 0 0 0 1 0 0 1 0 0\n",
      "4 0 0 1 1 0 0 1 0 0\n",
      "5 0 0 1 0 0 0 0 0 0\n",
      "6 0 0 0 0 0 0 0 0 0\n",
      "7 0 0 0 0 0 0 0 0 0\n",
      "8 0 0 0 0 0 0 0 0 0\n",
      "\n",
      "New Block : \n",
      "[[0 1 0]\n",
      " [1 1 1]]\n",
      "Moving to : (2, 6)\n",
      "Game Screen : \n",
      "  0 1 2 3 4 5 6 7 8\n",
      "0 0 0 0 0 0 0 0 0 0\n",
      "1 0 0 1 0 0 0 0 0 0\n",
      "2 0 1 0 0 0 1 1 0 0\n",
      "3 0 0 0 1 0 0 1 0 0\n",
      "4 0 0 1 1 0 0 1 0 0\n",
      "5 0 0 1 0 0 0 0 0 0\n",
      "6 0 0 0 0 0 0 0 0 0\n",
      "7 0 0 0 0 0 0 0 0 0\n",
      "8 0 0 0 0 0 0 0 0 0\n",
      "=====================\n"
     ]
    },
    {
     "ename": "KeyboardInterrupt",
     "evalue": "Interrupted by user",
     "output_type": "error",
     "traceback": [
      "\u001b[0;31m---------------------------------------------------------------------------\u001b[0m",
      "\u001b[0;31mKeyboardInterrupt\u001b[0m                         Traceback (most recent call last)",
      "\u001b[0;32m/tmp/ipykernel_1532678/992418020.py\u001b[0m in \u001b[0;36m<module>\u001b[0;34m\u001b[0m\n\u001b[1;32m      6\u001b[0m     \u001b[0mfield\u001b[0m\u001b[0;34m,\u001b[0m \u001b[0mscore\u001b[0m \u001b[0;34m=\u001b[0m \u001b[0mrun_algorithm\u001b[0m\u001b[0;34m(\u001b[0m\u001b[0mfield\u001b[0m\u001b[0;34m,\u001b[0m \u001b[0mrc\u001b[0m\u001b[0;34m,\u001b[0m \u001b[0mscore\u001b[0m\u001b[0;34m)\u001b[0m\u001b[0;34m\u001b[0m\u001b[0;34m\u001b[0m\u001b[0m\n\u001b[1;32m      7\u001b[0m     \u001b[0mrc\u001b[0m \u001b[0;34m=\u001b[0m \u001b[0mrandom\u001b[0m\u001b[0;34m.\u001b[0m\u001b[0mchoice\u001b[0m\u001b[0;34m(\u001b[0m\u001b[0mall_shapes\u001b[0m\u001b[0;34m)\u001b[0m\u001b[0;34m\u001b[0m\u001b[0;34m\u001b[0m\u001b[0m\n\u001b[0;32m----> 8\u001b[0;31m     \u001b[0minput\u001b[0m\u001b[0;34m(\u001b[0m\u001b[0;34m\"Next:\"\u001b[0m\u001b[0;34m)\u001b[0m\u001b[0;34m\u001b[0m\u001b[0;34m\u001b[0m\u001b[0m\n\u001b[0m\u001b[1;32m      9\u001b[0m \u001b[0mprint\u001b[0m\u001b[0;34m(\u001b[0m\u001b[0;34m\"Game over...\"\u001b[0m\u001b[0;34m)\u001b[0m\u001b[0;34m\u001b[0m\u001b[0;34m\u001b[0m\u001b[0m\n\u001b[1;32m     10\u001b[0m \u001b[0mprint\u001b[0m\u001b[0;34m(\u001b[0m\u001b[0;34m\"Score : \"\u001b[0m \u001b[0;34m+\u001b[0m \u001b[0mstr\u001b[0m\u001b[0;34m(\u001b[0m\u001b[0mscore\u001b[0m\u001b[0;34m)\u001b[0m\u001b[0;34m)\u001b[0m\u001b[0;34m\u001b[0m\u001b[0;34m\u001b[0m\u001b[0m\n",
      "\u001b[0;32m~/.local/lib/python3.8/site-packages/ipykernel/kernelbase.py\u001b[0m in \u001b[0;36mraw_input\u001b[0;34m(self, prompt)\u001b[0m\n\u001b[1;32m   1004\u001b[0m                 \u001b[0;34m\"raw_input was called, but this frontend does not support input requests.\"\u001b[0m\u001b[0;34m\u001b[0m\u001b[0;34m\u001b[0m\u001b[0m\n\u001b[1;32m   1005\u001b[0m             )\n\u001b[0;32m-> 1006\u001b[0;31m         return self._input_request(\n\u001b[0m\u001b[1;32m   1007\u001b[0m             \u001b[0mstr\u001b[0m\u001b[0;34m(\u001b[0m\u001b[0mprompt\u001b[0m\u001b[0;34m)\u001b[0m\u001b[0;34m,\u001b[0m\u001b[0;34m\u001b[0m\u001b[0;34m\u001b[0m\u001b[0m\n\u001b[1;32m   1008\u001b[0m             \u001b[0mself\u001b[0m\u001b[0;34m.\u001b[0m\u001b[0m_parent_ident\u001b[0m\u001b[0;34m[\u001b[0m\u001b[0;34m\"shell\"\u001b[0m\u001b[0;34m]\u001b[0m\u001b[0;34m,\u001b[0m\u001b[0;34m\u001b[0m\u001b[0;34m\u001b[0m\u001b[0m\n",
      "\u001b[0;32m~/.local/lib/python3.8/site-packages/ipykernel/kernelbase.py\u001b[0m in \u001b[0;36m_input_request\u001b[0;34m(self, prompt, ident, parent, password)\u001b[0m\n\u001b[1;32m   1049\u001b[0m             \u001b[0;32mexcept\u001b[0m \u001b[0mKeyboardInterrupt\u001b[0m\u001b[0;34m:\u001b[0m\u001b[0;34m\u001b[0m\u001b[0;34m\u001b[0m\u001b[0m\n\u001b[1;32m   1050\u001b[0m                 \u001b[0;31m# re-raise KeyboardInterrupt, to truncate traceback\u001b[0m\u001b[0;34m\u001b[0m\u001b[0;34m\u001b[0m\u001b[0;34m\u001b[0m\u001b[0m\n\u001b[0;32m-> 1051\u001b[0;31m                 \u001b[0;32mraise\u001b[0m \u001b[0mKeyboardInterrupt\u001b[0m\u001b[0;34m(\u001b[0m\u001b[0;34m\"Interrupted by user\"\u001b[0m\u001b[0;34m)\u001b[0m \u001b[0;32mfrom\u001b[0m \u001b[0;32mNone\u001b[0m\u001b[0;34m\u001b[0m\u001b[0;34m\u001b[0m\u001b[0m\n\u001b[0m\u001b[1;32m   1052\u001b[0m             \u001b[0;32mexcept\u001b[0m \u001b[0mException\u001b[0m\u001b[0;34m:\u001b[0m\u001b[0;34m\u001b[0m\u001b[0;34m\u001b[0m\u001b[0m\n\u001b[1;32m   1053\u001b[0m                 \u001b[0mself\u001b[0m\u001b[0;34m.\u001b[0m\u001b[0mlog\u001b[0m\u001b[0;34m.\u001b[0m\u001b[0mwarning\u001b[0m\u001b[0;34m(\u001b[0m\u001b[0;34m\"Invalid Message:\"\u001b[0m\u001b[0;34m,\u001b[0m \u001b[0mexc_info\u001b[0m\u001b[0;34m=\u001b[0m\u001b[0;32mTrue\u001b[0m\u001b[0;34m)\u001b[0m\u001b[0;34m\u001b[0m\u001b[0;34m\u001b[0m\u001b[0m\n",
      "\u001b[0;31mKeyboardInterrupt\u001b[0m: Interrupted by user"
     ]
    }
   ],
   "source": [
    "field = np.zeros((9,9), dtype=int)\n",
    "score = 0\n",
    "rc = random.choice(all_shapes)\n",
    "\n",
    "while not is_game_over(field, rc):\n",
    "    field, score = run_algorithm(field, rc, score)\n",
    "    rc = random.choice(all_shapes)\n",
    "    input(\"Next:\")\n",
    "print(\"Game over...\")\n",
    "print(\"Score : \" + str(score))"
   ]
  },
  {
   "cell_type": "code",
   "execution_count": null,
   "id": "26a1be97",
   "metadata": {
    "scrolled": false
   },
   "outputs": [],
   "source": [
    "a = generate_all_coord_scores(field, rc)"
   ]
  },
  {
   "cell_type": "code",
   "execution_count": null,
   "id": "5598c74d",
   "metadata": {},
   "outputs": [],
   "source": [
    "g = generate_coordinate(a)"
   ]
  },
  {
   "cell_type": "code",
   "execution_count": null,
   "id": "a471c0b8",
   "metadata": {},
   "outputs": [],
   "source": []
  },
  {
   "cell_type": "code",
   "execution_count": 530,
   "id": "d0508dbe",
   "metadata": {},
   "outputs": [],
   "source": [
    "k = np.zeros((9,9))"
   ]
  },
  {
   "cell_type": "code",
   "execution_count": 531,
   "id": "3794c428",
   "metadata": {},
   "outputs": [
    {
     "data": {
      "text/plain": [
       "array([[22, 23, 23, 23, 23, 23, 23, 23,  0],\n",
       "       [23, 23, 23, 23, 23, 23, 23, 23,  0],\n",
       "       [23, 23, 23, 23, 23, 23, 23, 23,  0],\n",
       "       [23, 23, 23, 23, 23, 23, 23, 23,  0],\n",
       "       [23, 23, 23, 23, 23, 23, 23, 23,  0],\n",
       "       [23, 23, 23, 23, 23, 23, 23, 23,  0],\n",
       "       [23, 23, 23, 23, 23, 23, 23, 23,  0],\n",
       "       [ 0,  0,  0,  0,  0,  0,  0,  0,  0],\n",
       "       [ 0,  0,  0,  0,  0,  0,  0,  0,  0]])"
      ]
     },
     "execution_count": 531,
     "metadata": {},
     "output_type": "execute_result"
    }
   ],
   "source": [
    "a"
   ]
  },
  {
   "cell_type": "code",
   "execution_count": 532,
   "id": "f59f3e64",
   "metadata": {},
   "outputs": [
    {
     "ename": "SyntaxError",
     "evalue": "invalid syntax (4202772728.py, line 1)",
     "output_type": "error",
     "traceback": [
      "\u001b[0;36m  File \u001b[0;32m\"/tmp/ipykernel_1532678/4202772728.py\"\u001b[0;36m, line \u001b[0;32m1\u001b[0m\n\u001b[0;31m    far sides are good.\u001b[0m\n\u001b[0m        ^\u001b[0m\n\u001b[0;31mSyntaxError\u001b[0m\u001b[0;31m:\u001b[0m invalid syntax\n"
     ]
    }
   ],
   "source": [
    "far sides are good."
   ]
  },
  {
   "cell_type": "code",
   "execution_count": 533,
   "id": "542986ea",
   "metadata": {},
   "outputs": [
    {
     "ename": "TypeError",
     "evalue": "'int' object is not subscriptable",
     "output_type": "error",
     "traceback": [
      "\u001b[0;31m---------------------------------------------------------------------------\u001b[0m",
      "\u001b[0;31mTypeError\u001b[0m                                 Traceback (most recent call last)",
      "\u001b[0;32m/tmp/ipykernel_1532678/2126560630.py\u001b[0m in \u001b[0;36m<module>\u001b[0;34m\u001b[0m\n\u001b[1;32m      1\u001b[0m \u001b[0msum_list\u001b[0m \u001b[0;34m=\u001b[0m \u001b[0mlist\u001b[0m\u001b[0;34m(\u001b[0m\u001b[0;34m)\u001b[0m\u001b[0;34m\u001b[0m\u001b[0;34m\u001b[0m\u001b[0m\n\u001b[1;32m      2\u001b[0m \u001b[0;32mfor\u001b[0m \u001b[0mi\u001b[0m \u001b[0;32min\u001b[0m \u001b[0mg\u001b[0m\u001b[0;34m:\u001b[0m\u001b[0;34m\u001b[0m\u001b[0;34m\u001b[0m\u001b[0m\n\u001b[0;32m----> 3\u001b[0;31m     \u001b[0msum_list\u001b[0m\u001b[0;34m.\u001b[0m\u001b[0mappend\u001b[0m\u001b[0;34m(\u001b[0m\u001b[0mi\u001b[0m\u001b[0;34m[\u001b[0m\u001b[0;36m0\u001b[0m\u001b[0;34m]\u001b[0m \u001b[0;34m+\u001b[0m \u001b[0mi\u001b[0m \u001b[0;34m[\u001b[0m\u001b[0;36m1\u001b[0m\u001b[0;34m]\u001b[0m\u001b[0;34m)\u001b[0m\u001b[0;34m\u001b[0m\u001b[0;34m\u001b[0m\u001b[0m\n\u001b[0m",
      "\u001b[0;31mTypeError\u001b[0m: 'int' object is not subscriptable"
     ]
    }
   ],
   "source": [
    "sum_list = list()\n",
    "for i in g:\n",
    "    sum_list.append(i[0] + i [1])"
   ]
  },
  {
   "cell_type": "code",
   "execution_count": 534,
   "id": "d4b82961",
   "metadata": {
    "scrolled": true
   },
   "outputs": [
    {
     "data": {
      "text/plain": [
       "[]"
      ]
     },
     "execution_count": 534,
     "metadata": {},
     "output_type": "execute_result"
    }
   ],
   "source": [
    "sum_list"
   ]
  },
  {
   "cell_type": "code",
   "execution_count": null,
   "id": "9be0ec8f",
   "metadata": {},
   "outputs": [],
   "source": []
  },
  {
   "cell_type": "code",
   "execution_count": null,
   "id": "b5742064",
   "metadata": {},
   "outputs": [],
   "source": []
  },
  {
   "cell_type": "code",
   "execution_count": null,
   "id": "f9bd822a",
   "metadata": {},
   "outputs": [],
   "source": []
  },
  {
   "cell_type": "code",
   "execution_count": null,
   "id": "c446f06e",
   "metadata": {},
   "outputs": [],
   "source": []
  },
  {
   "cell_type": "code",
   "execution_count": null,
   "id": "13cfd531",
   "metadata": {},
   "outputs": [],
   "source": []
  }
 ],
 "metadata": {
  "kernelspec": {
   "display_name": "Python 3 (ipykernel)",
   "language": "python",
   "name": "python3"
  },
  "language_info": {
   "codemirror_mode": {
    "name": "ipython",
    "version": 3
   },
   "file_extension": ".py",
   "mimetype": "text/x-python",
   "name": "python",
   "nbconvert_exporter": "python",
   "pygments_lexer": "ipython3",
   "version": "3.8.10"
  }
 },
 "nbformat": 4,
 "nbformat_minor": 5
}
