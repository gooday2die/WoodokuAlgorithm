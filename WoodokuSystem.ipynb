{
 "cells": [
  {
   "cell_type": "code",
   "execution_count": 1863,
   "id": "0d5c2324",
   "metadata": {},
   "outputs": [],
   "source": [
    "import numpy as np\n",
    "import random"
   ]
  },
  {
   "cell_type": "code",
   "execution_count": 1864,
   "id": "27e7e3bb",
   "metadata": {},
   "outputs": [],
   "source": [
    "field = np.zeros((9,9), dtype=int)"
   ]
  },
  {
   "cell_type": "code",
   "execution_count": 1865,
   "id": "2205b32a",
   "metadata": {},
   "outputs": [],
   "source": [
    "score = 0"
   ]
  },
  {
   "cell_type": "code",
   "execution_count": 1866,
   "id": "0b2f6bcc",
   "metadata": {
    "scrolled": true
   },
   "outputs": [
    {
     "data": {
      "text/plain": [
       "array([[0, 0, 0, 0, 0, 0, 0, 0, 0],\n",
       "       [0, 0, 0, 0, 0, 0, 0, 0, 0],\n",
       "       [0, 0, 0, 0, 0, 0, 0, 0, 0],\n",
       "       [0, 0, 0, 0, 0, 0, 0, 0, 0],\n",
       "       [0, 0, 0, 0, 0, 0, 0, 0, 0],\n",
       "       [0, 0, 0, 0, 0, 0, 0, 0, 0],\n",
       "       [0, 0, 0, 0, 0, 0, 0, 0, 0],\n",
       "       [0, 0, 0, 0, 0, 0, 0, 0, 0],\n",
       "       [0, 0, 0, 0, 0, 0, 0, 0, 0]])"
      ]
     },
     "execution_count": 1866,
     "metadata": {},
     "output_type": "execute_result"
    }
   ],
   "source": [
    "field"
   ]
  },
  {
   "cell_type": "code",
   "execution_count": 1867,
   "id": "769684ab",
   "metadata": {},
   "outputs": [],
   "source": [
    "def rotate_90(np_array):\n",
    "    \"\"\"\n",
    "    A function that rotates np array 90 degrees\n",
    "    \"\"\"\n",
    "    return np.rot90(np_array,axes=(-2,-1))"
   ]
  },
  {
   "cell_type": "code",
   "execution_count": 1868,
   "id": "b1ace756",
   "metadata": {},
   "outputs": [],
   "source": [
    "def generate_rotate_list(np_array):\n",
    "    \"\"\"\n",
    "    A function that gets one array and rotates it three times\n",
    "    \"\"\"\n",
    "    return_list = list()\n",
    "    \n",
    "    return_list.append(np_array)\n",
    "    return_list.append(rotate_90(np_array))\n",
    "    return_list.append(rotate_90(rotate_90(np_array)))\n",
    "    return_list.append(rotate_90(rotate_90(rotate_90(np_array))))\n",
    "    \n",
    "    return return_list"
   ]
  },
  {
   "cell_type": "code",
   "execution_count": 1869,
   "id": "b87f99b2",
   "metadata": {},
   "outputs": [],
   "source": [
    "def generate_shapes():\n",
    "    \"\"\"\n",
    "    A function that generates all shape arrays\n",
    "    There shall be 44 shapes\n",
    "    \"\"\"\n",
    "    shape_list = list()\n",
    "    t_shape_list = generate_rotate_list(np.array([[1,1,1],[0,1,0]]))\n",
    "    s_shape_list = generate_rotate_list(np.array([[0,1],[1,1],[1,0]]))\n",
    "    l_shape_list = generate_rotate_list(np.array([[0,1],[0,1],[1,1]])) + generate_rotate_list(np.array([[1,0],[1,0],[1,1]]))\n",
    "    r_shape_list = generate_rotate_list(np.array([[1,1],[0,1]]))\n",
    "    long_T_shape_list = generate_rotate_list(np.array([[1,1,1],[0,1,0]]))\n",
    "    long_shape_list = [np.array([[1,1]]), np.array([[1],[1]]), np.array([[1,1,1]])\n",
    "                       ,np.array([[1],[1],[1]]), np.array([[1,1,1,1]]), np.array([[1],[1],[1],[1]])\n",
    "                      , np.array([[1,1,1,1,1]]), np.array([[1],[1],[1],[1],[1]])]\n",
    "    big_r_shape_list = generate_rotate_list(np.array([[1,1,1],[0,0,1],[0,0,1]]))\n",
    "    etc_shape_list = [np.array([1]), np.array([[1,1],[1,1]]), np.array([[0,0,0,1],[0,0,1,0],[0,1,0,0],[1,0,0,0]])\n",
    "                     ,np.array([[1,0,0,0],[0,1,0,0],[0,0,1,0],[0,0,0,1]]), np.array([[1,0,0],[0,1,0],[0,0,1]]), \n",
    "                      np.array([[0,0,1],[0,1,0],[1,0,0]]), np.array([[0,1],[1,0]]), np.array([[1,0],[0,1]])]\n",
    "\n",
    "    shape_list += t_shape_list\n",
    "    shape_list += s_shape_list\n",
    "    shape_list += l_shape_list\n",
    "    shape_list += r_shape_list\n",
    "    shape_list += long_T_shape_list\n",
    "    shape_list += long_shape_list\n",
    "    shape_list += big_r_shape_list\n",
    "    shape_list += etc_shape_list\n",
    "    \n",
    "    return shape_list"
   ]
  },
  {
   "cell_type": "code",
   "execution_count": 1870,
   "id": "532899e9",
   "metadata": {},
   "outputs": [],
   "source": [
    "def game_rule(field, score):\n",
    "    \"\"\"\n",
    "    A function that generates gamerules\n",
    "    \"\"\"\n",
    "    field, row_score = check_rows(field)\n",
    "    field, col_score = check_cols(field)\n",
    "    field, block_score = check_block(field)\n",
    "        \n",
    "    if (row_score + col_score + block_score > 2):\n",
    "        score = 18 * (row_score + col_score + block_score - 1) + 10\n",
    "    elif (row_score + col_score + block_score == 1):\n",
    "        score = 18\n",
    "        \n",
    "    print(\"SCORE : \" + str(score))\n",
    "    \n",
    "    field = clean_up(field)\n",
    "    \n",
    "    return field, score"
   ]
  },
  {
   "cell_type": "code",
   "execution_count": 1871,
   "id": "e6b656a0",
   "metadata": {},
   "outputs": [],
   "source": [
    "def check_rows(field):\n",
    "    \"\"\"\n",
    "    A function that checks row sets\n",
    "    If there are any good matched ones, it will switch it to -1\n",
    "    \"\"\"\n",
    "    row_clear = 0\n",
    "    for i in range(len(field)):\n",
    "        if field[i].tolist() == [1,1,1,1,1,1,1,1,1]:\n",
    "            print(\"Cleared a ROW!\")\n",
    "            row_clear += 1\n",
    "            field[i] = [-1,-1,-1,-1,-1,-1,-1,-1,-1]\n",
    "    \n",
    "    return field, row_clear"
   ]
  },
  {
   "cell_type": "code",
   "execution_count": 1872,
   "id": "63a919e3",
   "metadata": {},
   "outputs": [],
   "source": [
    "def check_cols(field):\n",
    "    \"\"\"\n",
    "    A function that checks col sets\n",
    "    If there are any good matched ones, it will switch it to -1\n",
    "    \"\"\"\n",
    "    col_clear = 0\n",
    "    for i in range(len(field[0])):\n",
    "        cur_col = list()\n",
    "        result_list = list()\n",
    "        for j in range(len(field)):\n",
    "            cur_col.append(field[j][i])\n",
    "        for j in cur_col:\n",
    "            result_list.append(j == -1 or j == 1)\n",
    "        if result_list == [True, True, True, True, True, True, True, True, True]:\n",
    "            print(\"Cleared a COL!\")\n",
    "            col_clear += 1\n",
    "            for j in range(len(field)):\n",
    "                field[j][i] = -1\n",
    "            \n",
    "    return field, col_clear"
   ]
  },
  {
   "cell_type": "code",
   "execution_count": 1873,
   "id": "4de52af0",
   "metadata": {},
   "outputs": [],
   "source": [
    "def check_block(field):\n",
    "    \"\"\"\n",
    "    A function that checks block sets\n",
    "    If there are any good matched ones, it will switch it to -1\n",
    "    \"\"\"\n",
    "    block_clear =0\n",
    "    for k in range(3):\n",
    "        for i in range(3):\n",
    "            cur_block = list()\n",
    "            result_list = list()\n",
    "            for j in range(3):\n",
    "                cur_block += (field[i*3:i*3 + 3][j][k*3:k*3+3].tolist())\n",
    "            for j in cur_block:\n",
    "                result_list.append(j == -1 or j == 1)\n",
    "            if result_list == [True, True, True, True, True, True, True, True, True]:\n",
    "                for p in range(3):\n",
    "                    field[i*3:i*3+3][p][k*3:k*3+3] = [-1,-1,-1]\n",
    "                print(\"Cleared a Block!\")\n",
    "                block_clear += 1\n",
    "    return field, block_clear"
   ]
  },
  {
   "cell_type": "code",
   "execution_count": 1874,
   "id": "add6b242",
   "metadata": {},
   "outputs": [],
   "source": [
    "def clean_up(field):\n",
    "    \"\"\"\n",
    "    A function that cleans up the field if the number is 2\n",
    "    \"\"\"\n",
    "    field[field == -1] = 0\n",
    "    return field\n"
   ]
  },
  {
   "cell_type": "code",
   "execution_count": 1875,
   "id": "8a234a5c",
   "metadata": {},
   "outputs": [],
   "source": [
    "def move_shape(field, shape, x, y):\n",
    "    \"\"\"\n",
    "    A function that moves a shape into x, y\n",
    "    \"\"\"\n",
    "    org_field = field\n",
    "    can_move, new_field = can_move_shape(field, shape, x, y)\n",
    "    print(can_move)\n",
    "    if (can_move):\n",
    "        return True, new_field\n",
    "    else:\n",
    "        return False, org_field"
   ]
  },
  {
   "cell_type": "code",
   "execution_count": 1876,
   "id": "d8e2f001",
   "metadata": {},
   "outputs": [],
   "source": [
    "def can_move_shape(field, to_move, x, y):\n",
    "    \"\"\"\n",
    "    A function that checks if you can move a shape into a x, y\n",
    "    \"\"\"\n",
    "    \n",
    "    tmp_field = field.copy()\n",
    "    if (x < 0  or y < 0):\n",
    "        return False, field\n",
    "    else:\n",
    "        shape_size = to_move.shape\n",
    "        if (x + shape_size[1] > 9 or y + shape_size[0] > 9):\n",
    "            return False, field\n",
    "        else:\n",
    "            for i in range(shape_size[0]):\n",
    "                for j in range(shape_size[1]):\n",
    "                    tmp_field[i + y][j + x] = to_move[i][j] + tmp_field[i + y][j + x]\n",
    "            if np.any(tmp_field > 1):\n",
    "                return False, field\n",
    "            else:\n",
    "                return True, tmp_field"
   ]
  },
  {
   "cell_type": "code",
   "execution_count": 1918,
   "id": "89af1821",
   "metadata": {},
   "outputs": [],
   "source": [
    "def is_game_over(field, to_move):\n",
    "    \"\"\"\n",
    "    A method that determines if the game is over or not\n",
    "    \"\"\"\n",
    "    for i in range(9):\n",
    "        for j in range(9):\n",
    "            if can_move_shape(field, to_move, i, j):\n",
    "                return False\n",
    "    return True"
   ]
  },
  {
   "cell_type": "code",
   "execution_count": 1954,
   "id": "ca8b9e23",
   "metadata": {},
   "outputs": [],
   "source": [
    "def print_screen(field):\n",
    "    \"\"\"\n",
    "    A function that prints the field to screen\n",
    "    \"\"\"\n",
    "    print(\"  0 1 2 3 4 5 6 7 8\")\n",
    "    for i in range(len(field)):\n",
    "        print(str(i), end='')\n",
    "        for j in field[i]:\n",
    "            print(\" \" + str(j), end='')\n",
    "        print(\"\")"
   ]
  },
  {
   "cell_type": "code",
   "execution_count": 1957,
   "id": "c49201b9",
   "metadata": {},
   "outputs": [
    {
     "name": "stdout",
     "output_type": "stream",
     "text": [
      "  0 1 2 3 4 5 6 7 8\n",
      "0 0 0 0 0 0 0 0 0 0\n",
      "1 0 0 0 0 0 0 0 0 0\n",
      "2 0 0 0 0 0 0 0 0 0\n",
      "3 0 0 0 0 0 0 0 0 0\n",
      "4 0 0 0 0 0 0 0 0 0\n",
      "5 0 0 0 0 0 0 0 0 0\n",
      "6 0 0 0 0 0 0 0 0 0\n",
      "7 0 0 0 0 0 0 0 0 0\n",
      "8 0 0 0 0 0 0 0 0 0\n"
     ]
    }
   ],
   "source": [
    "print_screen(field)"
   ]
  },
  {
   "cell_type": "code",
   "execution_count": 1958,
   "id": "32b66bd6",
   "metadata": {},
   "outputs": [
    {
     "name": "stdout",
     "output_type": "stream",
     "text": [
      "Game Screen : \n",
      "  0 1 2 3 4 5 6 7 8\n",
      "0 0 0 0 0 0 0 0 0 0\n",
      "1 0 0 0 0 0 0 0 0 0\n",
      "2 0 0 0 0 0 0 0 0 0\n",
      "3 0 0 0 0 0 0 0 0 0\n",
      "4 0 0 0 0 0 0 0 0 0\n",
      "5 0 0 0 0 0 0 0 0 0\n",
      "6 0 0 0 0 0 0 0 0 0\n",
      "7 0 0 0 0 0 0 0 0 0\n",
      "8 0 0 0 0 0 0 0 0 0\n",
      "\n",
      "New Block : \n",
      "[[0 1]\n",
      " [1 0]]\n"
     ]
    },
    {
     "ename": "KeyboardInterrupt",
     "evalue": "Interrupted by user",
     "output_type": "error",
     "traceback": [
      "\u001b[0;31m---------------------------------------------------------------------------\u001b[0m",
      "\u001b[0;31mKeyboardInterrupt\u001b[0m                         Traceback (most recent call last)",
      "\u001b[0;32m/tmp/ipykernel_1489851/3585464733.py\u001b[0m in \u001b[0;36m<module>\u001b[0;34m\u001b[0m\n\u001b[1;32m     10\u001b[0m     \u001b[0mprint\u001b[0m\u001b[0;34m(\u001b[0m\u001b[0mrc\u001b[0m\u001b[0;34m)\u001b[0m\u001b[0;34m\u001b[0m\u001b[0;34m\u001b[0m\u001b[0m\n\u001b[1;32m     11\u001b[0m \u001b[0;34m\u001b[0m\u001b[0m\n\u001b[0;32m---> 12\u001b[0;31m     \u001b[0mx\u001b[0m \u001b[0;34m=\u001b[0m \u001b[0mint\u001b[0m\u001b[0;34m(\u001b[0m\u001b[0minput\u001b[0m\u001b[0;34m(\u001b[0m\u001b[0;34m\"X : \"\u001b[0m\u001b[0;34m)\u001b[0m\u001b[0;34m)\u001b[0m\u001b[0;34m\u001b[0m\u001b[0;34m\u001b[0m\u001b[0m\n\u001b[0m\u001b[1;32m     13\u001b[0m     \u001b[0my\u001b[0m \u001b[0;34m=\u001b[0m \u001b[0mint\u001b[0m\u001b[0;34m(\u001b[0m\u001b[0minput\u001b[0m\u001b[0;34m(\u001b[0m\u001b[0;34m\"Y : \"\u001b[0m\u001b[0;34m)\u001b[0m\u001b[0;34m)\u001b[0m\u001b[0;34m\u001b[0m\u001b[0;34m\u001b[0m\u001b[0m\n\u001b[1;32m     14\u001b[0m     \u001b[0mfield\u001b[0m \u001b[0;34m=\u001b[0m \u001b[0mmove_shape\u001b[0m\u001b[0;34m(\u001b[0m\u001b[0mfield\u001b[0m\u001b[0;34m,\u001b[0m \u001b[0mrc\u001b[0m\u001b[0;34m,\u001b[0m \u001b[0mx\u001b[0m\u001b[0;34m,\u001b[0m \u001b[0my\u001b[0m\u001b[0;34m)\u001b[0m\u001b[0;34m[\u001b[0m\u001b[0;36m1\u001b[0m\u001b[0;34m]\u001b[0m\u001b[0;34m\u001b[0m\u001b[0;34m\u001b[0m\u001b[0m\n",
      "\u001b[0;32m~/.local/lib/python3.8/site-packages/ipykernel/kernelbase.py\u001b[0m in \u001b[0;36mraw_input\u001b[0;34m(self, prompt)\u001b[0m\n\u001b[1;32m   1004\u001b[0m                 \u001b[0;34m\"raw_input was called, but this frontend does not support input requests.\"\u001b[0m\u001b[0;34m\u001b[0m\u001b[0;34m\u001b[0m\u001b[0m\n\u001b[1;32m   1005\u001b[0m             )\n\u001b[0;32m-> 1006\u001b[0;31m         return self._input_request(\n\u001b[0m\u001b[1;32m   1007\u001b[0m             \u001b[0mstr\u001b[0m\u001b[0;34m(\u001b[0m\u001b[0mprompt\u001b[0m\u001b[0;34m)\u001b[0m\u001b[0;34m,\u001b[0m\u001b[0;34m\u001b[0m\u001b[0;34m\u001b[0m\u001b[0m\n\u001b[1;32m   1008\u001b[0m             \u001b[0mself\u001b[0m\u001b[0;34m.\u001b[0m\u001b[0m_parent_ident\u001b[0m\u001b[0;34m[\u001b[0m\u001b[0;34m\"shell\"\u001b[0m\u001b[0;34m]\u001b[0m\u001b[0;34m,\u001b[0m\u001b[0;34m\u001b[0m\u001b[0;34m\u001b[0m\u001b[0m\n",
      "\u001b[0;32m~/.local/lib/python3.8/site-packages/ipykernel/kernelbase.py\u001b[0m in \u001b[0;36m_input_request\u001b[0;34m(self, prompt, ident, parent, password)\u001b[0m\n\u001b[1;32m   1049\u001b[0m             \u001b[0;32mexcept\u001b[0m \u001b[0mKeyboardInterrupt\u001b[0m\u001b[0;34m:\u001b[0m\u001b[0;34m\u001b[0m\u001b[0;34m\u001b[0m\u001b[0m\n\u001b[1;32m   1050\u001b[0m                 \u001b[0;31m# re-raise KeyboardInterrupt, to truncate traceback\u001b[0m\u001b[0;34m\u001b[0m\u001b[0;34m\u001b[0m\u001b[0;34m\u001b[0m\u001b[0m\n\u001b[0;32m-> 1051\u001b[0;31m                 \u001b[0;32mraise\u001b[0m \u001b[0mKeyboardInterrupt\u001b[0m\u001b[0;34m(\u001b[0m\u001b[0;34m\"Interrupted by user\"\u001b[0m\u001b[0;34m)\u001b[0m \u001b[0;32mfrom\u001b[0m \u001b[0;32mNone\u001b[0m\u001b[0;34m\u001b[0m\u001b[0;34m\u001b[0m\u001b[0m\n\u001b[0m\u001b[1;32m   1052\u001b[0m             \u001b[0;32mexcept\u001b[0m \u001b[0mException\u001b[0m\u001b[0;34m:\u001b[0m\u001b[0;34m\u001b[0m\u001b[0;34m\u001b[0m\u001b[0m\n\u001b[1;32m   1053\u001b[0m                 \u001b[0mself\u001b[0m\u001b[0;34m.\u001b[0m\u001b[0mlog\u001b[0m\u001b[0;34m.\u001b[0m\u001b[0mwarning\u001b[0m\u001b[0;34m(\u001b[0m\u001b[0;34m\"Invalid Message:\"\u001b[0m\u001b[0;34m,\u001b[0m \u001b[0mexc_info\u001b[0m\u001b[0;34m=\u001b[0m\u001b[0;32mTrue\u001b[0m\u001b[0;34m)\u001b[0m\u001b[0;34m\u001b[0m\u001b[0;34m\u001b[0m\u001b[0m\n",
      "\u001b[0;31mKeyboardInterrupt\u001b[0m: Interrupted by user"
     ]
    }
   ],
   "source": [
    "field = np.zeros((9,9), dtype=int)\n",
    "score = 0\n",
    "rc = random.choice(all_shapes)\n",
    "\n",
    "while not is_game_over(field, rc):\n",
    "    print(\"Game Screen : \")\n",
    "    print_screen(field)\n",
    "    \n",
    "    print(\"\\nNew Block : \")\n",
    "    print(rc)\n",
    "    \n",
    "    x = int(input(\"X : \"))\n",
    "    y = int(input(\"Y : \"))\n",
    "    field = move_shape(field, rc, x, y)[1]\n",
    "    field, score = game_rule(field, score)\n",
    "    rc = random.choice(all_shapes)\n",
    "    \n",
    "print(\"Game over...\")\n",
    "print(\"Score : \" + str(score))"
   ]
  },
  {
   "cell_type": "code",
   "execution_count": null,
   "id": "4b10e657",
   "metadata": {},
   "outputs": [],
   "source": []
  },
  {
   "cell_type": "code",
   "execution_count": null,
   "id": "2d48e875",
   "metadata": {},
   "outputs": [],
   "source": []
  }
 ],
 "metadata": {
  "kernelspec": {
   "display_name": "Python 3 (ipykernel)",
   "language": "python",
   "name": "python3"
  },
  "language_info": {
   "codemirror_mode": {
    "name": "ipython",
    "version": 3
   },
   "file_extension": ".py",
   "mimetype": "text/x-python",
   "name": "python",
   "nbconvert_exporter": "python",
   "pygments_lexer": "ipython3",
   "version": "3.8.10"
  }
 },
 "nbformat": 4,
 "nbformat_minor": 5
}
