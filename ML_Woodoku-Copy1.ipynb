{
 "cells": [
  {
   "cell_type": "code",
   "execution_count": 1,
   "id": "56715bcf",
   "metadata": {},
   "outputs": [],
   "source": [
    "import numpy as np\n",
    "import random\n",
    "import math"
   ]
  },
  {
   "cell_type": "code",
   "execution_count": 2,
   "id": "855ccb89",
   "metadata": {},
   "outputs": [],
   "source": [
    "def rotate_90(np_array):\n",
    "    \"\"\"\n",
    "    A function that rotates np array 90 degrees\n",
    "    \"\"\"\n",
    "    return np.rot90(np_array,axes=(-2,-1))"
   ]
  },
  {
   "cell_type": "code",
   "execution_count": 3,
   "id": "18d83b93",
   "metadata": {},
   "outputs": [],
   "source": [
    "def generate_rotate_list(np_array):\n",
    "    \"\"\"\n",
    "    A function that gets one array and rotates it three times\n",
    "    \"\"\"\n",
    "    return_list = list()\n",
    "    \n",
    "    return_list.append(np_array)\n",
    "    return_list.append(rotate_90(np_array))\n",
    "    return_list.append(rotate_90(rotate_90(np_array)))\n",
    "    return_list.append(rotate_90(rotate_90(rotate_90(np_array))))\n",
    "    \n",
    "    return return_list"
   ]
  },
  {
   "cell_type": "code",
   "execution_count": 4,
   "id": "5ea20fe9",
   "metadata": {},
   "outputs": [],
   "source": [
    "def generate_shapes():\n",
    "    \"\"\"\n",
    "    A function that generates all shape arrays\n",
    "    There shall be 44 shapes\n",
    "    \"\"\"\n",
    "    shape_list = list()\n",
    "    t_shape_list = generate_rotate_list(np.array([[1,1,1],[0,1,0]]))\n",
    "    s_shape_list = generate_rotate_list(np.array([[0,1],[1,1],[1,0]]))\n",
    "    l_shape_list = generate_rotate_list(np.array([[0,1],[0,1],[1,1]])) + generate_rotate_list(np.array([[1,0],[1,0],[1,1]]))\n",
    "    r_shape_list = generate_rotate_list(np.array([[1,1],[0,1]]))\n",
    "    long_T_shape_list = generate_rotate_list(np.array([[1,1,1],[0,1,0]]))\n",
    "    long_shape_list = [np.array([[1,1]]), np.array([[1],[1]]), np.array([[1,1,1]])\n",
    "                       ,np.array([[1],[1],[1]]), np.array([[1,1,1,1]]), np.array([[1],[1],[1],[1]])\n",
    "                      , np.array([[1,1,1,1,1]]), np.array([[1],[1],[1],[1],[1]])]\n",
    "    big_r_shape_list = generate_rotate_list(np.array([[1,1,1],[0,0,1],[0,0,1]]))\n",
    "    etc_shape_list = [np.array([[1]]), np.array([[1,1],[1,1]]), np.array([[0,0,0,1],[0,0,1,0],[0,1,0,0],[1,0,0,0]])\n",
    "                     ,np.array([[1,0,0,0],[0,1,0,0],[0,0,1,0],[0,0,0,1]]), np.array([[1,0,0],[0,1,0],[0,0,1]]), \n",
    "                      np.array([[0,0,1],[0,1,0],[1,0,0]]), np.array([[0,1],[1,0]]), np.array([[1,0],[0,1]])]\n",
    "\n",
    "    shape_list += t_shape_list\n",
    "    shape_list += s_shape_list\n",
    "    shape_list += l_shape_list\n",
    "    shape_list += r_shape_list\n",
    "    shape_list += long_T_shape_list\n",
    "    shape_list += long_shape_list\n",
    "    shape_list += big_r_shape_list\n",
    "    shape_list += etc_shape_list\n",
    "    \n",
    "    return shape_list"
   ]
  },
  {
   "cell_type": "code",
   "execution_count": 5,
   "id": "ed8f4e3a",
   "metadata": {},
   "outputs": [],
   "source": [
    "def game_rule(field, score):\n",
    "    \"\"\"\n",
    "    A function that generates gamerules\n",
    "    \"\"\"\n",
    "    field, row_score = check_rows(field)\n",
    "    field, col_score = check_cols(field)\n",
    "    field, block_score = check_block(field)\n",
    "        \n",
    "    if (row_score + col_score + block_score >= 2):\n",
    "        score = 18 * (row_score + col_score + block_score - 1) + 10\n",
    "    elif (row_score + col_score + block_score == 1):\n",
    "        score = 18\n",
    "    #print(\"SCORE : \" + str(score))\n",
    "    else:\n",
    "        score = 0\n",
    "    field = clean_up(field)\n",
    "    \n",
    "    return field, score"
   ]
  },
  {
   "cell_type": "code",
   "execution_count": 6,
   "id": "4bd64df9",
   "metadata": {},
   "outputs": [],
   "source": [
    "def check_rows(field):\n",
    "    \"\"\"\n",
    "    A function that checks row sets\n",
    "    If there are any good matched ones, it will switch it to -1\n",
    "    \"\"\"\n",
    "    row_clear = 0\n",
    "    for i in range(1, len(field)-1):\n",
    "        if field[i].tolist() == [1,1,1,1,1,1,1,1,1,1,1]:\n",
    "            print(\"Cleared a ROW!\")\n",
    "            row_clear += 1\n",
    "            field[i] = [1,-1,-1,-1,-1,-1,-1,-1,-1, -1, 1]\n",
    "    \n",
    "    return field, row_clear"
   ]
  },
  {
   "cell_type": "code",
   "execution_count": 7,
   "id": "1b0ed80d",
   "metadata": {},
   "outputs": [],
   "source": [
    "def check_cols(field):\n",
    "    \"\"\"\n",
    "    A function that checks col sets\n",
    "    If there are any good matched ones, it will switch it to -1\n",
    "    \"\"\"\n",
    "    col_clear = 0\n",
    "    for i in range(1, len(field[0]) -1):\n",
    "        cur_col = list()\n",
    "        result_list = list()\n",
    "        for j in range(1, len(field) -1):\n",
    "            cur_col.append(field[j][i])\n",
    "        for j in cur_col:\n",
    "            result_list.append(j == -1 or j == 1)\n",
    "        if result_list == [True, True, True, True, True, True, True, True, True]:\n",
    "            print(\"Cleared a COL!\")\n",
    "            col_clear += 1\n",
    "            for j in range(1, len(field)-1):\n",
    "                field[j][i] = -1\n",
    "            \n",
    "    return field, col_clear"
   ]
  },
  {
   "cell_type": "code",
   "execution_count": 8,
   "id": "75bd4a23",
   "metadata": {},
   "outputs": [],
   "source": [
    "def check_block(field):\n",
    "    \"\"\"\n",
    "    A function that checks block sets\n",
    "    If there are any good matched ones, it will switch it to -1\n",
    "    \"\"\"\n",
    "    block_clear =0\n",
    "    for k in range(3):\n",
    "        for i in range(3):\n",
    "            cur_block = list()\n",
    "            result_list = list()\n",
    "            for j in range(3):\n",
    "                cur_block += (field[i*3 + 1:i*3 + 3 + 1][j][k*3 + 1:k*3+3 + 1].tolist())\n",
    "            for j in cur_block:\n",
    "                result_list.append(j == -1 or j == 1)\n",
    "            if result_list == [True, True, True, True, True, True, True, True, True]:\n",
    "                for p in range(3):\n",
    "                    field[i*3 + 1:i*3+3 + 1][p][k*3 + 1:k*3+3 + 1] = [-1,-1,-1]\n",
    "                print(\"Cleared a Block!\")\n",
    "                block_clear += 1\n",
    "    return field, block_clear"
   ]
  },
  {
   "cell_type": "code",
   "execution_count": 9,
   "id": "69b43a91",
   "metadata": {},
   "outputs": [],
   "source": [
    "def clean_up(field):\n",
    "    \"\"\"\n",
    "    A function that cleans up the field if the number is 2\n",
    "    \"\"\"\n",
    "    field[field == -1] = 0\n",
    "    return field\n"
   ]
  },
  {
   "cell_type": "code",
   "execution_count": 10,
   "id": "d5f3a113",
   "metadata": {},
   "outputs": [],
   "source": [
    "def move_shape(field, shape, x, y):\n",
    "    \"\"\"\n",
    "    A function that moves a shape into x, y\n",
    "    \"\"\"\n",
    "    org_field = field\n",
    "    can_move, new_field = can_move_shape(field, shape, x, y)\n",
    "    #print(\"SHAPE SIZE : \" + str(shape.shape))\n",
    "    if (can_move):\n",
    "        return True, new_field\n",
    "    else:\n",
    "        return False, org_field"
   ]
  },
  {
   "cell_type": "code",
   "execution_count": 11,
   "id": "79701df6",
   "metadata": {},
   "outputs": [],
   "source": [
    "def can_move_shape(field, to_move, x, y):\n",
    "    \"\"\"\n",
    "    A function that checks if you can move a shape into a x, y\n",
    "    \"\"\"\n",
    "    shape_size = (len(to_move[0]), len(to_move))\n",
    "    tmp_field = field.copy()\n",
    "    if (x < 1  or y < 1):\n",
    "        return False, field\n",
    "    else:\n",
    "        #shape_size = to_move.shape\n",
    "        if (x + shape_size[0] > 10 or y + shape_size[1] > 10):\n",
    "            return False, field\n",
    "        else:\n",
    "            for i in range(shape_size[1]):\n",
    "                for j in range(shape_size[0]):\n",
    "                    tmp_field[i + y][j + x] = to_move[i][j] + tmp_field[i + y][j + x]\n",
    "            if np.any(tmp_field > 1):\n",
    "                return False, field\n",
    "            else:\n",
    "                return True, tmp_field"
   ]
  },
  {
   "cell_type": "code",
   "execution_count": 12,
   "id": "46e72161",
   "metadata": {},
   "outputs": [],
   "source": [
    "def is_game_over(field, to_move):\n",
    "    \"\"\"\n",
    "    A method that determines if the game is over or not\n",
    "    \"\"\"\n",
    "    for i in range(11):\n",
    "        for j in range(11):\n",
    "            if can_move_shape(field, to_move, i, j)[0]:\n",
    "                return False\n",
    "    return True"
   ]
  },
  {
   "cell_type": "code",
   "execution_count": 13,
   "id": "421cedd2",
   "metadata": {},
   "outputs": [],
   "source": [
    "def print_screen(field):\n",
    "    \"\"\"\n",
    "    A function that prints the field to screen\n",
    "    \"\"\"\n",
    "    print(\"   0 1 2 3 4 5 6 7 8 9 10\")\n",
    "    for i in range(len(field)):\n",
    "        print(\"%02d\" % i, end='')\n",
    "        for j in field[i]:\n",
    "            if j == 0:\n",
    "                print(\"\\x1b[32m %d\\x1b[0m\"% j, end='')\n",
    "            else:\n",
    "                print(\"\\x1b[31m %d\\x1b[0m\"% j, end='')\n",
    "        print(\"\")"
   ]
  },
  {
   "cell_type": "code",
   "execution_count": 14,
   "id": "25741f06",
   "metadata": {},
   "outputs": [],
   "source": [
    "def generate_all_heuristics(field, new_shape, x, y, z, w):\n",
    "    all_scores = np.zeros((11,11), dtype=int)\n",
    "    for i in range(11):\n",
    "        for j in range(11):\n",
    "            can_move, future_field = can_move_shape(field, new_shape, j, i)\n",
    "            if can_move:\n",
    "                all_scores[i][j] = calculate_heuristics(future_field, x, y, z, w)\n",
    "            else:\n",
    "                all_scores[i][j] = 0\n",
    "\n",
    "    return all_scores"
   ]
  },
  {
   "cell_type": "code",
   "execution_count": 15,
   "id": "31e7774c",
   "metadata": {},
   "outputs": [],
   "source": [
    "def calculate_heuristics(current_field, x, y, z, w):\n",
    "    \"\"\"\n",
    "    A function that calculates heuristics using ML\n",
    "    \"\"\"\n",
    "    game_score = game_rule(current_field, 0)[1]  # Score if put in this place\n",
    "    empty_space_score = get_empty_space_score(current_field)\n",
    "    connection_score = get_connection_score(current_field)\n",
    "    perfectness_score = get_perfectness(current_field)\n",
    "\n",
    "    empty_space_score = np.sqrt(np.sqrt(np.sqrt(empty_space_score)))\n",
    "    connection_score = np.sqrt(np.sqrt(np.sqrt(connection_score)))\n",
    "    \n",
    "    #score = game_score + (math.log10(empty_space_score)) + (math.log10(connection_score))\n",
    "    score = game_score * x  + empty_space_score * y + connection_score * z + perfectness_score * w \n",
    "    #print(\"GAME SCORE : \" + str(game_score))\n",
    "    #print(\"Empty Space Score : \" + str(empty_space_score))\n",
    "    #print(\"Connection Score : \" + str(connection_score))\n",
    "    #print(\"Perfectness Score : \" + str(perfectness_score))\n",
    "    \n",
    "    return score"
   ]
  },
  {
   "cell_type": "code",
   "execution_count": 16,
   "id": "8cb7b031",
   "metadata": {},
   "outputs": [],
   "source": [
    "def get_empty_space_score(current_field):\n",
    "    visited = np.zeros((11,11))\n",
    "    total_score = 0\n",
    "    for i in range(11):\n",
    "        for j in range(11):\n",
    "            if visited[i][j] == 1 or current_field[i][j] == 1:\n",
    "                pass\n",
    "            else:\n",
    "                score, visited = dfs_empty_space_no_rec(current_field, visited, j, i)\n",
    "                total_score += score\n",
    "    return total_score"
   ]
  },
  {
   "cell_type": "code",
   "execution_count": 17,
   "id": "814b111e",
   "metadata": {},
   "outputs": [],
   "source": [
    "def get_connection_score(current_field):\n",
    "    visited = np.zeros((11,11))\n",
    "    total_score = 0\n",
    "    for i in range(11):\n",
    "        for j in range(11):\n",
    "            if visited[i][j] == 1 or current_field[i][j] == 0:\n",
    "                pass\n",
    "            else:\n",
    "                score, visited = dfs_connection_no_rec(current_field, visited, j, i)\n",
    "                total_score += score\n",
    "    return total_score"
   ]
  },
  {
   "cell_type": "code",
   "execution_count": 18,
   "id": "cde03bb0",
   "metadata": {},
   "outputs": [],
   "source": [
    "def dfs_connection_no_rec(current_field, visited, x, y):\n",
    "    stack = [(x,y)]  # make stack\n",
    "    score = 1  # score gets 2^n\n",
    "    while (len(stack) != 0):  # if stack not empty\n",
    "        cur_x, cur_y = stack.pop()  # pop\n",
    "        if (cur_y > -1 and cur_x > -1) and (cur_y < 11 and cur_x < 11):\n",
    "            if visited[cur_y][cur_x] == 1:  # if visited, pass\n",
    "                pass  \n",
    "            else :  # if not out of bound\n",
    "                if current_field[cur_y][cur_x] == 1:  # and also is filled with pixel\n",
    "                    visited[cur_y][cur_x] = 1  # set visited\n",
    "                    score *= 1.5  # score * 2\n",
    "                    stack.append((cur_x, cur_y-1))  # UP\n",
    "                    stack.append((cur_x, cur_y+1))  # DN\n",
    "                    stack.append((cur_x-1, cur_y))  # LEFT\n",
    "                    stack.append((cur_x+1, cur_y))  # RIGHT\n",
    "                else:\n",
    "                    pass\n",
    "        else:\n",
    "            pass\n",
    "    return score, visited # return score"
   ]
  },
  {
   "cell_type": "code",
   "execution_count": 19,
   "id": "9b701d30",
   "metadata": {},
   "outputs": [],
   "source": [
    "def dfs_empty_space_no_rec(current_field, visited, x, y):\n",
    "    stack = [(x,y)]  # make stack\n",
    "    score = 1  # score gets 2^n\n",
    "    while (len(stack) != 0):  # if stack not empty\n",
    "        cur_x, cur_y = stack.pop()  # pop\n",
    "        if (cur_y > -1 and cur_x > -1) and (cur_y < 11 and cur_x < 11):\n",
    "            if visited[cur_y][cur_x] == 1:  # if visited, pass\n",
    "                pass  \n",
    "            else :  # if not out of bound\n",
    "                if current_field[cur_y][cur_x] == 0:  # and also is not filled with pixel\n",
    "                    visited[cur_y][cur_x] = 1  # set visited\n",
    "                    score *= 1.5 # score * 2\n",
    "                    stack.append((cur_x, cur_y-1))  # UP\n",
    "                    stack.append((cur_x, cur_y+1))  # DN\n",
    "                    stack.append((cur_x-1, cur_y))  # LEFT\n",
    "                    stack.append((cur_x+1, cur_y))  # RIGHT\n",
    "                else:\n",
    "                    pass\n",
    "        else:\n",
    "            pass\n",
    "    return score, visited # return score"
   ]
  },
  {
   "cell_type": "code",
   "execution_count": 20,
   "id": "efa7a110",
   "metadata": {},
   "outputs": [],
   "source": [
    "def get_perfectness(current_field):\n",
    "    row_perfectness_list = list()\n",
    "    col_perfectness_list = list()\n",
    "    blk_perfectness_list = list()\n",
    "    \n",
    "    # get row_perfectness\n",
    "    for i in range(1, len(current_field) - 1):\n",
    "        cur_perfectness = 0\n",
    "        for j in range(1, len(current_field) - 1):\n",
    "            cur_perfectness += current_field[i][j]\n",
    "        row_perfectness_list.append(cur_perfectness)\n",
    "        \n",
    "    # get col_prefectness\n",
    "    for j in range(1, len(current_field[0]) - 1):\n",
    "        cur_perfectness = 0\n",
    "        for i in range(1, len(current_field) - 1):\n",
    "            cur_perfectness += current_field[i][j]\n",
    "        col_perfectness_list.append(cur_perfectness)\n",
    "        \n",
    "    # get blk perfectness\n",
    "    for k in range(3):\n",
    "        for i in range(3):\n",
    "            cur_block = list()\n",
    "            result_list = list()\n",
    "            cur_perfectness = 0\n",
    "            for j in range(3):\n",
    "                cur_block += (current_field[i*3 + 1:i*3 + 3 + 1][j][k*3 + 1:k*3+3 + 1].tolist())\n",
    "            for i in cur_block:\n",
    "                cur_perfectness += i\n",
    "            blk_perfectness_list.append(cur_perfectness)\n",
    "\n",
    "    return sum(row_perfectness_list) + sum(col_perfectness_list) + sum(blk_perfectness_list)"
   ]
  },
  {
   "cell_type": "code",
   "execution_count": 21,
   "id": "fd92ade4",
   "metadata": {},
   "outputs": [],
   "source": [
    "def pick_coordinate(heuristics_matrix):\n",
    "    max_score = np.unique(heuristics_matrix, return_counts=True)[0].max()\n",
    "    #print(heuristics_matrix)\n",
    "    possible_matrix = np.zeros((11,11))\n",
    "    possible_list = list()\n",
    "    for i in range(11):\n",
    "        for j in range(11):\n",
    "            if heuristics_matrix[i][j] == max_score:\n",
    "                possible_matrix[i][j] = 1\n",
    "                possible_list.append((i,j))\n",
    "    #return random.choice(possible_list)\n",
    "    return possible_list[0]"
   ]
  },
  {
   "cell_type": "code",
   "execution_count": 22,
   "id": "7f76cd7e",
   "metadata": {},
   "outputs": [],
   "source": [
    "def woodoku_algorithm(field, new_shape, x, y, z, w):\n",
    "    heuristics_matrix = generate_all_heuristics(field, new_shape, x, y, z, w)\n",
    "    coordinate = pick_coordinate(heuristics_matrix)\n",
    "    #print(\"Moving Piece to : \" + str(coordinate))\n",
    "    result, field = move_shape(field, new_shape, coordinate[1], coordinate[0])\n",
    "    return field"
   ]
  },
  {
   "cell_type": "code",
   "execution_count": 23,
   "id": "f3ef5172",
   "metadata": {},
   "outputs": [],
   "source": [
    "def print_shape(shape):\n",
    "    for i in range(len(shape)):\n",
    "        for j in range(len(shape[0])):\n",
    "            if shape[i][j] == 0:\n",
    "                print(\"\\x1b[32m %d\\x1b[0m\"% shape[i][j], end='')\n",
    "            else:\n",
    "                print(\"\\x1b[31m %d\\x1b[0m\"% shape[i][j], end='')\n",
    "        print(\"\")"
   ]
  },
  {
   "cell_type": "code",
   "execution_count": 24,
   "id": "6fbeaf9a",
   "metadata": {},
   "outputs": [],
   "source": [
    "def count_shape_pixel(shape):\n",
    "    try:\n",
    "        return np.unique(shape, return_counts=True)[1][1]\n",
    "    except IndexError:\n",
    "        return np.unique(shape, return_counts=True)[1][0]\n"
   ]
  },
  {
   "cell_type": "code",
   "execution_count": 25,
   "id": "94ec181f",
   "metadata": {
    "scrolled": false
   },
   "outputs": [],
   "source": [
    "field = np.zeros((9,9), dtype=int)\n",
    "padding_field = np.pad(field, (1,1), 'constant', constant_values=1)\n",
    "shapes = generate_shapes()\n",
    "score = 0"
   ]
  },
  {
   "cell_type": "code",
   "execution_count": 26,
   "id": "2e6b2834",
   "metadata": {},
   "outputs": [],
   "source": [
    "np.save(\"./shapes.arr\", shapes) # save shapes info file for future use with order"
   ]
  },
  {
   "cell_type": "code",
   "execution_count": 27,
   "id": "b592520e",
   "metadata": {},
   "outputs": [],
   "source": [
    "array  = np.load(\"./shapes.arr.npy\", allow_pickle=True).tolist() * 3"
   ]
  },
  {
   "cell_type": "code",
   "execution_count": 30,
   "id": "b3bfe2e7",
   "metadata": {},
   "outputs": [],
   "source": [
    "def run(x, y, z, w):\n",
    "    field = np.zeros((9,9), dtype=int)\n",
    "    padding_field = np.pad(field, (1,1), 'constant', constant_values=1)\n",
    "    score = 0\n",
    "    cnt = 1\n",
    "    try:\n",
    "        while True:\n",
    "            rc = random.choice(shapes)\n",
    "            if is_game_over(padding_field, rc):\n",
    "                break\n",
    "            #print(rc)\n",
    "            padding_field = woodoku_algorithm(padding_field, rc, x, y, z, w)\n",
    "            #print_screen(padding_field)\n",
    "            padding_field, new_score = game_rule(padding_field, score)\n",
    "            score += new_score\n",
    "            score += count_shape_pixel(rc)\n",
    "            #input(\"\")\n",
    "            #print(cnt)\n",
    "            cnt += 1\n",
    "        #print(score)\n",
    "        return score\n",
    "    except IndexError:\n",
    "        return 0"
   ]
  },
  {
   "cell_type": "code",
   "execution_count": 31,
   "id": "850b5da4",
   "metadata": {
    "scrolled": true
   },
   "outputs": [
    {
     "ename": "KeyboardInterrupt",
     "evalue": "",
     "output_type": "error",
     "traceback": [
      "\u001b[0;31m---------------------------------------------------------------------------\u001b[0m",
      "\u001b[0;31mKeyboardInterrupt\u001b[0m                         Traceback (most recent call last)",
      "\u001b[0;32m/tmp/ipykernel_1547923/2596062972.py\u001b[0m in \u001b[0;36m<module>\u001b[0;34m\u001b[0m\n\u001b[1;32m      3\u001b[0m         \u001b[0;32mfor\u001b[0m \u001b[0mk\u001b[0m \u001b[0;32min\u001b[0m \u001b[0mrange\u001b[0m\u001b[0;34m(\u001b[0m\u001b[0;36m0\u001b[0m \u001b[0;34m,\u001b[0m \u001b[0;36m5\u001b[0m\u001b[0;34m)\u001b[0m\u001b[0;34m:\u001b[0m\u001b[0;34m\u001b[0m\u001b[0;34m\u001b[0m\u001b[0m\n\u001b[1;32m      4\u001b[0m             \u001b[0;32mfor\u001b[0m \u001b[0ml\u001b[0m \u001b[0;32min\u001b[0m \u001b[0mrange\u001b[0m\u001b[0;34m(\u001b[0m\u001b[0;36m0\u001b[0m \u001b[0;34m,\u001b[0m \u001b[0;36m3\u001b[0m\u001b[0;34m)\u001b[0m\u001b[0;34m:\u001b[0m\u001b[0;34m\u001b[0m\u001b[0;34m\u001b[0m\u001b[0m\n\u001b[0;32m----> 5\u001b[0;31m                 \u001b[0mprint\u001b[0m\u001b[0;34m(\u001b[0m\u001b[0;34m\"%d %d %d %d / RESULT %d \"\u001b[0m \u001b[0;34m%\u001b[0m \u001b[0;34m(\u001b[0m\u001b[0mi\u001b[0m\u001b[0;34m,\u001b[0m \u001b[0mj\u001b[0m\u001b[0;34m,\u001b[0m \u001b[0mk\u001b[0m\u001b[0;34m,\u001b[0m \u001b[0ml\u001b[0m\u001b[0;34m,\u001b[0m \u001b[0mrun\u001b[0m\u001b[0;34m(\u001b[0m\u001b[0mi\u001b[0m\u001b[0;34m,\u001b[0m\u001b[0mj\u001b[0m\u001b[0;34m,\u001b[0m\u001b[0mk\u001b[0m\u001b[0;34m,\u001b[0m\u001b[0ml\u001b[0m\u001b[0;34m)\u001b[0m\u001b[0;34m)\u001b[0m\u001b[0;34m)\u001b[0m\u001b[0;34m\u001b[0m\u001b[0;34m\u001b[0m\u001b[0m\n\u001b[0m",
      "\u001b[0;32m/tmp/ipykernel_1547923/972004414.py\u001b[0m in \u001b[0;36mrun\u001b[0;34m(x, y, z, w)\u001b[0m\n\u001b[1;32m     10\u001b[0m                 \u001b[0;32mbreak\u001b[0m\u001b[0;34m\u001b[0m\u001b[0;34m\u001b[0m\u001b[0m\n\u001b[1;32m     11\u001b[0m             \u001b[0;31m#print(rc)\u001b[0m\u001b[0;34m\u001b[0m\u001b[0;34m\u001b[0m\u001b[0;34m\u001b[0m\u001b[0m\n\u001b[0;32m---> 12\u001b[0;31m             \u001b[0mpadding_field\u001b[0m \u001b[0;34m=\u001b[0m \u001b[0mwoodoku_algorithm\u001b[0m\u001b[0;34m(\u001b[0m\u001b[0mpadding_field\u001b[0m\u001b[0;34m,\u001b[0m \u001b[0mrc\u001b[0m\u001b[0;34m,\u001b[0m \u001b[0mx\u001b[0m\u001b[0;34m,\u001b[0m \u001b[0my\u001b[0m\u001b[0;34m,\u001b[0m \u001b[0mz\u001b[0m\u001b[0;34m,\u001b[0m \u001b[0mw\u001b[0m\u001b[0;34m)\u001b[0m\u001b[0;34m\u001b[0m\u001b[0;34m\u001b[0m\u001b[0m\n\u001b[0m\u001b[1;32m     13\u001b[0m             \u001b[0;31m#print_screen(padding_field)\u001b[0m\u001b[0;34m\u001b[0m\u001b[0;34m\u001b[0m\u001b[0;34m\u001b[0m\u001b[0m\n\u001b[1;32m     14\u001b[0m             \u001b[0mpadding_field\u001b[0m\u001b[0;34m,\u001b[0m \u001b[0mnew_score\u001b[0m \u001b[0;34m=\u001b[0m \u001b[0mgame_rule\u001b[0m\u001b[0;34m(\u001b[0m\u001b[0mpadding_field\u001b[0m\u001b[0;34m,\u001b[0m \u001b[0mscore\u001b[0m\u001b[0;34m)\u001b[0m\u001b[0;34m\u001b[0m\u001b[0;34m\u001b[0m\u001b[0m\n",
      "\u001b[0;32m/tmp/ipykernel_1547923/3414392727.py\u001b[0m in \u001b[0;36mwoodoku_algorithm\u001b[0;34m(field, new_shape, x, y, z, w)\u001b[0m\n\u001b[1;32m      1\u001b[0m \u001b[0;32mdef\u001b[0m \u001b[0mwoodoku_algorithm\u001b[0m\u001b[0;34m(\u001b[0m\u001b[0mfield\u001b[0m\u001b[0;34m,\u001b[0m \u001b[0mnew_shape\u001b[0m\u001b[0;34m,\u001b[0m \u001b[0mx\u001b[0m\u001b[0;34m,\u001b[0m \u001b[0my\u001b[0m\u001b[0;34m,\u001b[0m \u001b[0mz\u001b[0m\u001b[0;34m,\u001b[0m \u001b[0mw\u001b[0m\u001b[0;34m)\u001b[0m\u001b[0;34m:\u001b[0m\u001b[0;34m\u001b[0m\u001b[0;34m\u001b[0m\u001b[0m\n\u001b[0;32m----> 2\u001b[0;31m     \u001b[0mheuristics_matrix\u001b[0m \u001b[0;34m=\u001b[0m \u001b[0mgenerate_all_heuristics\u001b[0m\u001b[0;34m(\u001b[0m\u001b[0mfield\u001b[0m\u001b[0;34m,\u001b[0m \u001b[0mnew_shape\u001b[0m\u001b[0;34m,\u001b[0m \u001b[0mx\u001b[0m\u001b[0;34m,\u001b[0m \u001b[0my\u001b[0m\u001b[0;34m,\u001b[0m \u001b[0mz\u001b[0m\u001b[0;34m,\u001b[0m \u001b[0mw\u001b[0m\u001b[0;34m)\u001b[0m\u001b[0;34m\u001b[0m\u001b[0;34m\u001b[0m\u001b[0m\n\u001b[0m\u001b[1;32m      3\u001b[0m     \u001b[0mcoordinate\u001b[0m \u001b[0;34m=\u001b[0m \u001b[0mpick_coordinate\u001b[0m\u001b[0;34m(\u001b[0m\u001b[0mheuristics_matrix\u001b[0m\u001b[0;34m)\u001b[0m\u001b[0;34m\u001b[0m\u001b[0;34m\u001b[0m\u001b[0m\n\u001b[1;32m      4\u001b[0m     \u001b[0;31m#print(\"Moving Piece to : \" + str(coordinate))\u001b[0m\u001b[0;34m\u001b[0m\u001b[0;34m\u001b[0m\u001b[0;34m\u001b[0m\u001b[0m\n\u001b[1;32m      5\u001b[0m     \u001b[0mresult\u001b[0m\u001b[0;34m,\u001b[0m \u001b[0mfield\u001b[0m \u001b[0;34m=\u001b[0m \u001b[0mmove_shape\u001b[0m\u001b[0;34m(\u001b[0m\u001b[0mfield\u001b[0m\u001b[0;34m,\u001b[0m \u001b[0mnew_shape\u001b[0m\u001b[0;34m,\u001b[0m \u001b[0mcoordinate\u001b[0m\u001b[0;34m[\u001b[0m\u001b[0;36m1\u001b[0m\u001b[0;34m]\u001b[0m\u001b[0;34m,\u001b[0m \u001b[0mcoordinate\u001b[0m\u001b[0;34m[\u001b[0m\u001b[0;36m0\u001b[0m\u001b[0;34m]\u001b[0m\u001b[0;34m)\u001b[0m\u001b[0;34m\u001b[0m\u001b[0;34m\u001b[0m\u001b[0m\n",
      "\u001b[0;32m/tmp/ipykernel_1547923/1119401872.py\u001b[0m in \u001b[0;36mgenerate_all_heuristics\u001b[0;34m(field, new_shape, x, y, z, w)\u001b[0m\n\u001b[1;32m      5\u001b[0m             \u001b[0mcan_move\u001b[0m\u001b[0;34m,\u001b[0m \u001b[0mfuture_field\u001b[0m \u001b[0;34m=\u001b[0m \u001b[0mcan_move_shape\u001b[0m\u001b[0;34m(\u001b[0m\u001b[0mfield\u001b[0m\u001b[0;34m,\u001b[0m \u001b[0mnew_shape\u001b[0m\u001b[0;34m,\u001b[0m \u001b[0mj\u001b[0m\u001b[0;34m,\u001b[0m \u001b[0mi\u001b[0m\u001b[0;34m)\u001b[0m\u001b[0;34m\u001b[0m\u001b[0;34m\u001b[0m\u001b[0m\n\u001b[1;32m      6\u001b[0m             \u001b[0;32mif\u001b[0m \u001b[0mcan_move\u001b[0m\u001b[0;34m:\u001b[0m\u001b[0;34m\u001b[0m\u001b[0;34m\u001b[0m\u001b[0m\n\u001b[0;32m----> 7\u001b[0;31m                 \u001b[0mall_scores\u001b[0m\u001b[0;34m[\u001b[0m\u001b[0mi\u001b[0m\u001b[0;34m]\u001b[0m\u001b[0;34m[\u001b[0m\u001b[0mj\u001b[0m\u001b[0;34m]\u001b[0m \u001b[0;34m=\u001b[0m \u001b[0mcalculate_heuristics\u001b[0m\u001b[0;34m(\u001b[0m\u001b[0mfuture_field\u001b[0m\u001b[0;34m,\u001b[0m \u001b[0mx\u001b[0m\u001b[0;34m,\u001b[0m \u001b[0my\u001b[0m\u001b[0;34m,\u001b[0m \u001b[0mz\u001b[0m\u001b[0;34m,\u001b[0m \u001b[0mw\u001b[0m\u001b[0;34m)\u001b[0m\u001b[0;34m\u001b[0m\u001b[0;34m\u001b[0m\u001b[0m\n\u001b[0m\u001b[1;32m      8\u001b[0m             \u001b[0;32melse\u001b[0m\u001b[0;34m:\u001b[0m\u001b[0;34m\u001b[0m\u001b[0;34m\u001b[0m\u001b[0m\n\u001b[1;32m      9\u001b[0m                 \u001b[0mall_scores\u001b[0m\u001b[0;34m[\u001b[0m\u001b[0mi\u001b[0m\u001b[0;34m]\u001b[0m\u001b[0;34m[\u001b[0m\u001b[0mj\u001b[0m\u001b[0;34m]\u001b[0m \u001b[0;34m=\u001b[0m \u001b[0;36m0\u001b[0m\u001b[0;34m\u001b[0m\u001b[0;34m\u001b[0m\u001b[0m\n",
      "\u001b[0;32m/tmp/ipykernel_1547923/3519423484.py\u001b[0m in \u001b[0;36mcalculate_heuristics\u001b[0;34m(current_field, x, y, z, w)\u001b[0m\n\u001b[1;32m      6\u001b[0m     \u001b[0mempty_space_score\u001b[0m \u001b[0;34m=\u001b[0m \u001b[0mget_empty_space_score\u001b[0m\u001b[0;34m(\u001b[0m\u001b[0mcurrent_field\u001b[0m\u001b[0;34m)\u001b[0m\u001b[0;34m\u001b[0m\u001b[0;34m\u001b[0m\u001b[0m\n\u001b[1;32m      7\u001b[0m     \u001b[0mconnection_score\u001b[0m \u001b[0;34m=\u001b[0m \u001b[0mget_connection_score\u001b[0m\u001b[0;34m(\u001b[0m\u001b[0mcurrent_field\u001b[0m\u001b[0;34m)\u001b[0m\u001b[0;34m\u001b[0m\u001b[0;34m\u001b[0m\u001b[0m\n\u001b[0;32m----> 8\u001b[0;31m     \u001b[0mperfectness_score\u001b[0m \u001b[0;34m=\u001b[0m \u001b[0mget_perfectness\u001b[0m\u001b[0;34m(\u001b[0m\u001b[0mcurrent_field\u001b[0m\u001b[0;34m)\u001b[0m\u001b[0;34m\u001b[0m\u001b[0;34m\u001b[0m\u001b[0m\n\u001b[0m\u001b[1;32m      9\u001b[0m \u001b[0;34m\u001b[0m\u001b[0m\n\u001b[1;32m     10\u001b[0m     \u001b[0mempty_space_score\u001b[0m \u001b[0;34m=\u001b[0m \u001b[0mnp\u001b[0m\u001b[0;34m.\u001b[0m\u001b[0msqrt\u001b[0m\u001b[0;34m(\u001b[0m\u001b[0mnp\u001b[0m\u001b[0;34m.\u001b[0m\u001b[0msqrt\u001b[0m\u001b[0;34m(\u001b[0m\u001b[0mnp\u001b[0m\u001b[0;34m.\u001b[0m\u001b[0msqrt\u001b[0m\u001b[0;34m(\u001b[0m\u001b[0mempty_space_score\u001b[0m\u001b[0;34m)\u001b[0m\u001b[0;34m)\u001b[0m\u001b[0;34m)\u001b[0m\u001b[0;34m\u001b[0m\u001b[0;34m\u001b[0m\u001b[0m\n",
      "\u001b[0;32m/tmp/ipykernel_1547923/32644810.py\u001b[0m in \u001b[0;36mget_perfectness\u001b[0;34m(current_field)\u001b[0m\n\u001b[1;32m     15\u001b[0m         \u001b[0mcur_perfectness\u001b[0m \u001b[0;34m=\u001b[0m \u001b[0;36m0\u001b[0m\u001b[0;34m\u001b[0m\u001b[0;34m\u001b[0m\u001b[0m\n\u001b[1;32m     16\u001b[0m         \u001b[0;32mfor\u001b[0m \u001b[0mi\u001b[0m \u001b[0;32min\u001b[0m \u001b[0mrange\u001b[0m\u001b[0;34m(\u001b[0m\u001b[0;36m1\u001b[0m\u001b[0;34m,\u001b[0m \u001b[0mlen\u001b[0m\u001b[0;34m(\u001b[0m\u001b[0mcurrent_field\u001b[0m\u001b[0;34m)\u001b[0m \u001b[0;34m-\u001b[0m \u001b[0;36m1\u001b[0m\u001b[0;34m)\u001b[0m\u001b[0;34m:\u001b[0m\u001b[0;34m\u001b[0m\u001b[0;34m\u001b[0m\u001b[0m\n\u001b[0;32m---> 17\u001b[0;31m             \u001b[0mcur_perfectness\u001b[0m \u001b[0;34m+=\u001b[0m \u001b[0mcurrent_field\u001b[0m\u001b[0;34m[\u001b[0m\u001b[0mi\u001b[0m\u001b[0;34m]\u001b[0m\u001b[0;34m[\u001b[0m\u001b[0mj\u001b[0m\u001b[0;34m]\u001b[0m\u001b[0;34m\u001b[0m\u001b[0;34m\u001b[0m\u001b[0m\n\u001b[0m\u001b[1;32m     18\u001b[0m         \u001b[0mcol_perfectness_list\u001b[0m\u001b[0;34m.\u001b[0m\u001b[0mappend\u001b[0m\u001b[0;34m(\u001b[0m\u001b[0mcur_perfectness\u001b[0m\u001b[0;34m)\u001b[0m\u001b[0;34m\u001b[0m\u001b[0;34m\u001b[0m\u001b[0m\n\u001b[1;32m     19\u001b[0m \u001b[0;34m\u001b[0m\u001b[0m\n",
      "\u001b[0;31mKeyboardInterrupt\u001b[0m: "
     ]
    }
   ],
   "source": [
    "for i in range(10 , 20):\n",
    "    for j in range(0 , 5):\n",
    "        for k in range(0 , 5):\n",
    "            for l in range(0 , 3):\n",
    "                print(\"%d %d %d %d / RESULT %d \" % (i, j, k, l, run(i,j,k,l)))"
   ]
  },
  {
   "cell_type": "code",
   "execution_count": 142,
   "id": "72516ebe",
   "metadata": {},
   "outputs": [],
   "source": [
    "# 0 6 1 0 / RESULT 329 \n",
    "# 0 6 6 0 / RESULT 251\n",
    "# 2 9 2 0 / RESULT 385 \n",
    "# 3 1 1 0 / RESULT 427 \n",
    "# 4 3 2 0 / RESULT 750 \n",
    "# 5 3 2 0 / RESULT 540 \n",
    "# 6 3 2 1 / RESULT 820 \n",
    "# 6 4 3 0 / RESULT 507 \n",
    "# 8 2 4 0 / RESULT 866 \n",
    "# 9 1 2 0 / RESULT 908 \n",
    "# 9 2 4 0 / RESULT 866 \n",
    "# 10 1 2 0 / RESULT 908 \n",
    "# 11 1 2 0 / RESULT 908 \n",
    "# 11 1 2 1 / RESULT 908 \n",
    "# 12 1 2 0 / RESULT 908 \n",
    "# 12 1 2 1 / RESULT 908 \n",
    "\n",
    "\"\"\"\n",
    "Analysis\n",
    "w = 0 ~ 2 is best\n",
    "higher x can mean higer results\n",
    "\"\"\""
   ]
  }
 ],
 "metadata": {
  "kernelspec": {
   "display_name": "Python 3 (ipykernel)",
   "language": "python",
   "name": "python3"
  },
  "language_info": {
   "codemirror_mode": {
    "name": "ipython",
    "version": 3
   },
   "file_extension": ".py",
   "mimetype": "text/x-python",
   "name": "python",
   "nbconvert_exporter": "python",
   "pygments_lexer": "ipython3",
   "version": "3.8.10"
  }
 },
 "nbformat": 4,
 "nbformat_minor": 5
}
